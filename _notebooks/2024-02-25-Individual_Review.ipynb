{
 "cells": [
  {
   "cell_type": "markdown",
   "metadata": {},
   "source": [
    "---\n",
    "toc: False\n",
    "layout: post\n",
    "hide: false\n",
    "comments: true\n",
    "title: Individual Review\n",
    "description: Personal Reflection on CPT Project\n",
    "courses: {'compsci': {'week': 24}}\n",
    "type: tangibles\n",
    "---"
   ]
  },
  {
   "cell_type": "markdown",
   "metadata": {},
   "source": [
    "# Our Project\n",
    "An all-in-one website that makes volunteering opportunities easily accessible to students. We gathered information regarding different volunteering organizations and organized them in a way that students can plan which events to partake in.\n",
    "\n",
    "# Feature\n",
    "User login and registration using different roles for users and admins\n",
    "\n",
    "### Use of Roles \n",
    "\n",
    "- On the website there are several menu bars. There are four titled \"All Events\", \"My Events\", \"Manage Events\", and \"Manage Users\".\n",
    "\n",
    "\n",
    "<img width=\"996\" alt=\"image\" src=\"https://github.com/tarasehdave/volunteer-frontend/assets/143206206/9fbbc7f6-4693-4284-8748-37a36c323601\">\n",
    "\n",
    "\n",
    "- To access them, a user needs to log in or sign up. If they don't and try to access it, it will prompt \"Please log in first!\". \n",
    "\n",
    "\n",
    "<img width=\"429\" alt=\"image\" src=\"https://github.com/tarasehdave/volunteer-frontend/assets/143206206/ba334238-57e5-45c8-9fca-9c3b0eb2a7f9\">\n",
    "\n",
    "- The last two. \"Manage Events\", and \"Manage Users\", are only accessible if an admin is signed in. If a user is signed in and they try to access these tabs, it will prompt, \"Only Admins can view this page\".\n",
    "\n",
    "<img width=\"431\" alt=\"image\" src=\"https://github.com/tarasehdave/volunteer-frontend/assets/143206206/cac647ae-7227-403f-8523-80e402697e66\">\n",
    "\n",
    "- Admins have the ability to create, edit, and delete volunteer opportunities. \n",
    "\n",
    "<img width=\"1613\" alt=\"image\" src=\"https://github.com/tarasehdave/volunteer-frontend/assets/143206206/955ab715-557e-4e13-bcba-a8754f36a483\">\n",
    "\n",
    "- They can also do the same with users. \n",
    "\n",
    "<img width=\"1606\" alt=\"image\" src=\"https://github.com/tarasehdave/volunteer-frontend/assets/143206206/a1727066-b833-4e11-b464-35a7bce6358b\">\n",
    "\n",
    "User Registration \n",
    "\n",
    "- Users can log into the website by typing in their user id and password. \n",
    "\n",
    "<img width=\"977\" alt=\"image\" src=\"https://github.com/tarasehdave/volunteer-frontend/assets/143206206/9249b243-4ae1-4365-9c2c-33c23d14bd5b\">\n",
    "\n",
    "- If they don't have a log in, they can sign up. \n",
    "\n",
    "<img width=\"1006\" alt=\"image\" src=\"https://github.com/tarasehdave/volunteer-frontend/assets/143206206/105cfc7e-414a-4459-b953-e9d3a5b54d3f\">\n",
    "\n",
    "# CPT Review of Requirements\n",
    "\n",
    "#### Instructions for input from one of the following: the user, a device, an online datas stream, a file:\n",
    "The project takes name, user id, password, and date of birth for sign-up and login.\n",
    "\n",
    "#### Use of at least one list (or other collection type) to represent a collection of data that is stored and used to manage program complexity and help fulfill the users purpose:\n",
    "The data inputted by users is stored in an Sqlite table that admins can access in a separate database page.\n",
    "<img width=\"1006\" alt=\"image\" src=\"https://github.com/tarasehdave/volunteer-frontend/assets/142524729/48d8c5de-3ceb-4d62-b7ba-702167a25360\">\n",
    "\n",
    "#### At least one procedure that contributed to the program’s intended purpose where you have defined: the name, return type, one or more parameters:\n",
    "After creating and account and logging in, users can access the other pages (My Events and All Events). Admins can access the Manage Events and Manage Users after being authorized.\n",
    "<img width=\"1006\" alt=\"image\" src=\"https://github.com/tarasehdave/volunteer-frontend/assets/142524729/98a1cc38-dc2e-4c8b-b29e-d667dd91475d\">\n",
    "\n",
    "#### An algorithm that includes sequencing, selection, and iteration that is in the body of the selected procedure\n",
    "This if function determines if the new account is authorized and will be redirected to the login, or if there was an error.\n",
    "<img width=\"1006\" alt=\"image\" src=\"https://github.com/tarasehdave/volunteer-frontend/assets/142524729/e677eb2e-e970-45b6-955a-5849ac81749d\">\n",
    "\n",
    "#### Calls to your student-developed procedure\n",
    "<img width=\"1006\" alt=\"image\" src=\"https://github.com/tarasehdave/volunteer-frontend/assets/142524729/1f0f24e0-c290-4fc8-b86e-e490a1cd9be1\">\n",
    "\n",
    "#### Instructions for output (tactile, audible, visual, or ) based on input and program functionality\n",
    "Now, the json data is formatted into a table. All content is dynamically updated.\n",
    "<img width=\"1006\" alt=\"image\" src=\"https://github.com/tarasehdave/volunteer-frontend/assets/142524729/a2a2a097-d8ad-4a33-bd66-ef686bd4207f\">"
   ]
  },
  {
   "cell_type": "markdown",
   "metadata": {},
   "source": [
    "### College Board Requirements from : https://apclassroom.collegeboard.org/103/home?apd=7wv87bhksv&unit=0"
   ]
  },
  {
   "cell_type": "markdown",
   "metadata": {},
   "source": [
    "Link to video: "
   ]
  }
 ],
 "metadata": {
  "language_info": {
   "name": "python"
  },
  "orig_nbformat": 4
 },
 "nbformat": 4,
 "nbformat_minor": 2
}
