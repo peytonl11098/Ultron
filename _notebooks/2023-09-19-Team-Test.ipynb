{
 "cells": [
  {
   "cell_type": "markdown",
   "metadata": {},
   "source": [
    "---\n",
    "layout: post\n",
    "title: 1.1-1.4 Team Test\n",
    "description: This is a notebook with all our cells for the team test video.\n",
    "toc: false\n",
    "comments: false\n",
    "type: hacks\n",
    "courses: {\"compsci\": {week: 4} }\n",
    "---"
   ]
  },
  {
   "cell_type": "markdown",
   "metadata": {},
   "source": [
    "# Part 1: Collaboration Review\n",
    "\n",
    "### What are the benefits of a team? Explain some of the diversities that your team has to offer.\n",
    "- The benefits of a team include communication, compromise, and the ability to compartmentalize, increasing our efficiency by designating roles to members who may be more proficient at certain skills than others, while also being able to complete multiple tasks simultaneously. Some of the diversities our team has to offer are knowledge of multiple languages and diverse computer science backgrounds.\n",
    "### Describe how you will facilitate communication amongst group members.\n",
    "- We will facilitate communication through Discord, Slack, and regular meetups in person to discuss our roles and monitor our progress.\n",
    "### How will you hold each person accountable for their portion of the work? Think about dates, review tickets, and peer reviews.\n",
    "- We will assign certain dates of which select portions of our work shall be done. We will have daily check-ins with our team to review our work, making sure that each person has contributed to their part."
   ]
  },
  {
   "cell_type": "markdown",
   "metadata": {},
   "source": [
    "# Part 2: Program Function and Purpose"
   ]
  },
  {
   "cell_type": "code",
   "execution_count": null,
   "metadata": {},
   "outputs": [],
   "source": [
    "#Program with an output\n",
    "print(\"Hello World\")"
   ]
  },
  {
   "cell_type": "code",
   "execution_count": null,
   "metadata": {},
   "outputs": [],
   "source": [
    "#Program with an input and output5\n",
    "greeting = input(\"Provide a greeting: \")\n",
    "name = input(\"Provide a name: \")\n",
    "print(greeting + \" \" + name)"
   ]
  },
  {
   "cell_type": "code",
   "execution_count": null,
   "metadata": {},
   "outputs": [],
   "source": [
    "#Program with a List\n",
    "fruits = [\"Apple\", \"Banana\", \"Grape\", \"Watermelon\", \"Cherry\", \"Strawberry\", \"Blueberry\"]\n",
    "for fruit in fruits:\n",
    "    print(fruit)"
   ]
  },
  {
   "cell_type": "code",
   "execution_count": null,
   "metadata": {},
   "outputs": [],
   "source": [
    "#Program with a Dictionary\n",
    "student = {\"name\": \"Kaiyu\", \"age\": 16, \"grade\": \"C\"}\n",
    "print(\"Name:\", student[\"name\"])\n",
    "print(\"Age:\", student[\"age\"])\n",
    "print(\"Grade:\", student[\"grade\"])"
   ]
  },
  {
   "cell_type": "code",
   "execution_count": null,
   "metadata": {},
   "outputs": [],
   "source": [
    "#Program with an Iteration\n",
    "s = \"\"\n",
    "for i in range(1,10):\n",
    "    s += str(i) + \"\"\n",
    "    print(s)"
   ]
  },
  {
   "cell_type": "code",
   "execution_count": null,
   "metadata": {},
   "outputs": [],
   "source": [
    "#Program with a Function to perform mathematical and/or a statistical calculations\n",
    "def add_numbers(a, b):\n",
    "    return a + b\n",
    "def subtract_numbers(a, b):\n",
    "    return a - b\n",
    "def multiply_numbers(a, b):\n",
    "    return a * b\n",
    "def divide_numbers(a, b):\n",
    "    if b == 0:\n",
    "        return \"Error: Division by zero is not allowed.\"\n",
    "    return a / b\n",
    "num1 = float(input(\"Enter the first number: \"))\n",
    "num2 = float(input(\"Enter the second number: \"))\n",
    "operation = input(\"Choose operation (+ for addition, - for subtraction, * for multiplication, / for division): \")\n",
    "if operation == '+':\n",
    "    result = add_numbers(num1, num2)\n",
    "    operation_symbol = \"addition\"\n",
    "elif operation == '-':\n",
    "    result = subtract_numbers(num1, num2)\n",
    "    operation_symbol = \"subtraction\"\n",
    "elif operation == '*':\n",
    "    result = multiply_numbers(num1, num2)\n",
    "    operation_symbol = \"multiplication\"\n",
    "elif operation == '/':\n",
    "    result = divide_numbers(num1, num2)\n",
    "    operation_symbol = \"division\"\n",
    "else:\n",
    "    result = \"Invalid operation\"\n",
    "    operation_symbol = \"\"\n",
    "if operation_symbol:\n",
    "    print(f\"{num1} {operation} {num2} = {result} (Operation: {operation_symbol})\")\n",
    "else:\n",
    "    print(result)"
   ]
  },
  {
   "cell_type": "code",
   "execution_count": null,
   "metadata": {},
   "outputs": [],
   "source": [
    "#Program with a Conditional\n",
    "grade = int(input(\"Input your grade %\"))\n",
    "if grade >= 90:\n",
    "    print(\"You have an A\")\n",
    "elif grade >= 80:\n",
    "    print(\"You have a B\")\n",
    "elif grade >= 70:\n",
    "    print(\"You have a C\")\n",
    "elif grade >= 60:\n",
    "    print(\"You have a D\")\n",
    "else:\n",
    "    print(\"You have an F\")"
   ]
  },
  {
   "cell_type": "code",
   "execution_count": null,
   "metadata": {},
   "outputs": [],
   "source": [
    "# Program with Purpose\n",
    "weightInPounds = input(\"Input the weight in pounds: \")\n",
    "weightInKilograms = float(weightInPounds) / 2.205\n",
    "roundedWeightInKilograms = round(weightInKilograms, 2)\n",
    "print(\"The weight in kilograms is \" + str(roundedWeightInKilograms))"
   ]
  },
  {
   "cell_type": "markdown",
   "metadata": {},
   "source": [
    "# Part 3: Program Design and Development"
   ]
  },
  {
   "cell_type": "markdown",
   "metadata": {},
   "source": [
    "<html lang=\"en\">\n",
    "<head>\n",
    "    <meta charset=\"UTF-8\">\n",
    "    <meta name=\"viewport\" content=\"width=device-width, initial-scale=1.0\">\n",
    "    <title>Factorial Calculator</title>\n",
    "    <style>\n",
    "        /* Basic CSS for styling the UI */\n",
    "        body {\n",
    "            font-family: Arial, sans-serif;\n",
    "            background-color: #F4F4F4;\n",
    "        }\n",
    "        #calculator {\n",
    "            max-width: 400px;\n",
    "            margin: 0 auto;\n",
    "            padding: 20px;\n",
    "            background-color: #fff;\n",
    "            border-radius: 5px;\n",
    "        }\n",
    "        h1 {\n",
    "            color: #333;\n",
    "        }\n",
    "        input[type=\"number\"] {\n",
    "            width: 95% ;\n",
    "            padding: 10px;\n",
    "            margin-bottom: 10px;\n",
    "            border: 1px solid #ccc;\n",
    "            border-radius: 10px;\n",
    "        }\n",
    "        button {\n",
    "            background-color: #007BFF;\n",
    "            color: #fff;\n",
    "            border: none;\n",
    "            padding: 10px 20px;\n",
    "            cursor: pointer;\n",
    "        }\n",
    "    </style>\n",
    "</head>\n",
    "<body>\n",
    "    <div id=\"calculator\">\n",
    "        <h1>Factorial Calculator</h1>\n",
    "        <label for=\"number\">Enter a non-negative integer:</label>\n",
    "        <input type=\"number\" id=\"number\" min=\"0\" step=\"1\" required>\n",
    "        <button id=\"calculate\">Calculate Factorial</button>\n",
    "        <p id=\"result\"></p>\n",
    "    </div>\n",
    "<script>\n",
    "    // Add an event listener to the 'calculate' button\n",
    "    document.getElementById('calculate').addEventListener('click', function () {\n",
    "        // Get the input value as a number\n",
    "        const inputNumber = parseInt(document.getElementById('number').value);\n",
    "        try {\n",
    "            // Calculate the factorial using the calculateFactorial function\n",
    "            const factorialResult = calculateFactorial(inputNumber);\n",
    "            // Display the factorial result in the 'result' element\n",
    "            document.getElementById('result').textContent = `The factorial of ${inputNumber} is ${factorialResult}`;\n",
    "        } catch (error) {\n",
    "            // Handle errors by displaying an error message in the 'result' element\n",
    "            document.getElementById('result').textContent = error.message;\n",
    "        }\n",
    "    });\n",
    "    // Function to calculate the factorial\n",
    "    function calculateFactorial(num) {\n",
    "        // Check if the input is a non-negative integer\n",
    "        if (typeof num !== 'number' || num < 0 || Math.floor(num) !== num) {\n",
    "            throw new Error('Input must be a non-negative integer.');\n",
    "        }\n",
    "        // Calculate the factorial using a loop\n",
    "        let result = 1;\n",
    "        for (let i = 1; i <= num; i++) {\n",
    "            result *= i;\n",
    "        }\n",
    "        // Return the calculated factorial\n",
    "        return result;\n",
    "    }\n",
    "</script>\n",
    "<br>\n",
    "<h1>Visual illustration of algorithm</h1>\n",
    "<img src=\"data:image/png;base64,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\">\n",
    "</body>\n",
    "</html>"
   ]
  },
  {
   "cell_type": "code",
   "execution_count": null,
   "metadata": {
    "vscode": {
     "languageId": "html"
    }
   },
   "outputs": [],
   "source": [
    "<html lang=\"en\">\n",
    "<head>\n",
    "    <meta charset=\"UTF-8\">\n",
    "    <meta name=\"viewport\" content=\"width=device-width, initial-scale=1.0\">\n",
    "    <title>Factorial Calculator</title>\n",
    "    <style>\n",
    "        /* Basic CSS for styling the UI */\n",
    "        body {\n",
    "            font-family: Arial, sans-serif;\n",
    "            background-color: #F4F4F4;\n",
    "        }\n",
    "        #calculator {\n",
    "            max-width: 400px;\n",
    "            margin: 0 auto;\n",
    "            padding: 20px;\n",
    "            background-color: #fff;\n",
    "            border-radius: 5px;\n",
    "        }\n",
    "        h1 {\n",
    "            color: #333;\n",
    "        }\n",
    "        input[type=\"number\"] {\n",
    "            width: 95% ;\n",
    "            padding: 10px;\n",
    "            margin-bottom: 10px;\n",
    "            border: 1px solid #ccc;\n",
    "            border-radius: 10px;\n",
    "        }\n",
    "        button {\n",
    "            background-color: #007BFF;\n",
    "            color: #fff;\n",
    "            border: none;\n",
    "            padding: 10px 20px;\n",
    "            cursor: pointer;\n",
    "        }\n",
    "    </style>\n",
    "</head>\n",
    "<body>\n",
    "<br>\n",
    "    <div id=\"calculator\">\n",
    "        <h1>Factorial Calculator</h1>\n",
    "        <label for=\"number\">Enter a non-negative integer:</label>\n",
    "        <input type=\"number\" id=\"number\" min=\"0\" step=\"1\" required>\n",
    "        <button id=\"calculate\">Calculate Factorial</button>\n",
    "        <p id=\"result\"></p>\n",
    "    </div>\n",
    "<script>\n",
    "    // Add an event listener to the 'calculate' button\n",
    "    document.getElementById('calculate').addEventListener('click', function () {\n",
    "        // Get the input value as a number\n",
    "        const inputNumber = parseInt(document.getElementById('number').value);\n",
    "        try {\n",
    "            // Calculate the factorial using the calculateFactorial function\n",
    "            const factorialResult = calculateFactorial(inputNumber);\n",
    "            // Display the factorial result in the 'result' element\n",
    "            document.getElementById('result').textContent = `The factorial of ${inputNumber} is ${factorialResult}`;\n",
    "        } catch (error) {\n",
    "            // Handle errors by displaying an error message in the 'result' element\n",
    "            document.getElementById('result').textContent = error.message;\n",
    "        }\n",
    "    });\n",
    "    // Function to calculate the factorial\n",
    "    function calculateFactorial(num) {\n",
    "        // Check if the input is a non-negative integer\n",
    "        if (typeof num !== 'number' || num < 0 || Math.floor(num) !== num) {\n",
    "            throw new Error('Input must be a non-negative integer.');\n",
    "        }\n",
    "        // Calculate the factorial using a loop\n",
    "        let result = 1;\n",
    "        for (let i = 1; i <= num; i++) {\n",
    "            result *= i;\n",
    "        }\n",
    "        // Return the calculated factorial\n",
    "        return result;\n",
    "    }\n",
    "</script>\n",
    "<br>\n",
    "<h1>Visual illustration of algorithm</h1>\n",
    "<img src=\"https://ci3.googleusercontent.com/mail-img-att/AIFldNrzyIlbGAOsK_xIKKaIueAf7rSM4XREJNw_ann6mQH40gYRJRb2BYSCA_NllhHR84Vn5G9UcpOw27d0o17XXPfjXbX5W3E6Sw71khrObbL6-komDWoX77K4frKwzVvPY0GLWs1y-3VHRTudFeNzMME50s7_pLtelKJ79f8LkKv7Ycd-gZ--tr-xQjrrfHkfMeIpxeG0zU40yVd1zGCYnFiIEH2rSCjCR8hrbmxO5vThRb3_9qJD_s1KXRGNeHM3bmisMjiMEGqszCpkfDQ7tshVCifCuRXtzltkmwF-v9jDqhd2QAyFrG7mhPLeofsIZTRz-hBUhMgdGKTF8_EDaTs0_IfkHOpt9Ahhgzg512jUv9NZeSVaAwKxIh5Et_kxyjG6b-yy_5_rPuWugwWZ3RFcbNosomh9vWttEV6iqoEcCklaMq4PFpanQd30XOZzD-OWQufTzNGBHUnKGl4PNj4JpFPpIlAfjRZAZ5VFSLo1-9bvf4ZRzO5y5pY2Xqcmhn6Io3hCz63WSVnNfOleWT_vE7V2mN5fUGH7xWu3O1cUcbTqBHk2if4hObgNbQnmnLMiVUtins6GqqrqumVU0G_ymRRbtPkwf6992QKSup0um6hFLJwdJpCSWsMIi-_1rm47ecdM0LN8Nw5jlmQThuxQwiDUffq0fsceGuf0cC9KkLIeSW3bKUuH34zsOExOgEeGaRgB9b2AkFVMfVfxi6cdqY7yTdM2jhkxZdoUtf6NOhUMNhNypVthWxGv-x5svQ6VYwBnXVh2rZ4qc1Npo0yhkfsf7h8EVUOVoYY71Zca6Qsbll15s6b1RMUajWdiBmLx5CaGdFwPlxFSuWBsEjIFAe2-oTvwaGmrs0HG2sE4dq5l7WL8oLqctKpPvAUSe_FKncM0Iqy5lHHsB4Gzf_T3_HKWmqSt5gPFm7SgDEjUVKR7ho7mDybwRHXbc-t3De57m3tZGSq1p4qKS0RdCwjv6r2eqxvykxbVKkjvzvVJG0bj-QWK5aJ6YRNHXU03V0veCYpbu7ZCJ_30xdHkyuuG-aSemVmyWqEpoF_FTwdQJ3S0E78R-tTaBerik_JUQflqRhPcEsIzHP9qPLw3U6bLgvL4pH4qao1YbAz_Iy1v5vSz26nsLZiuDew-Bww=s0-l75-ft\">\n",
    "</body>\n",
    "</html>"
   ]
  },
  {
   "cell_type": "markdown",
   "metadata": {},
   "source": [
    "# Part 4: Identyfing and Correct Errors"
   ]
  },
  {
   "cell_type": "markdown",
   "metadata": {},
   "source": [
    "## First, we define our function.\n",
    "> This function takes two numbers and divides them.<br>\n",
    "> Here, we also test using non-zero numbers to see if the function works for regular division"
   ]
  },
  {
   "cell_type": "code",
   "execution_count": null,
   "metadata": {},
   "outputs": [],
   "source": [
    "# Function to divide two numbers that are inputted.\n",
    "def divide(a,b):\n",
    "    # Raise a Value Error if there is division by 0\n",
    "    if b == 0:\n",
    "        raise ValueError(\"Divison by 0 is undefined\")\n",
    "    # Otherwise, return the result\n",
    "    else:\n",
    "        output = a / b\n",
    "    return output\n",
    "\n",
    "# First we test division with two numbers that can be divided to ensure that the function works for regular division\n",
    "result = divide(6,3)\n",
    "assert result == 2, \"Expected result for 6 / 3 is 2, but got {}\".format(result)\n",
    "print(f\"Test passed: divide(6, 3) correctly returned 2\")"
   ]
  },
  {
   "cell_type": "markdown",
   "metadata": {},
   "source": [
    "## Now we can test, using a try/catch statement first.\n",
    "> Here we force the function to do division by 0 using a try statement.<br>\n",
    "> If there is a Value Error, we know that the function worked properly."
   ]
  },
  {
   "cell_type": "code",
   "execution_count": null,
   "metadata": {},
   "outputs": [],
   "source": [
    "# Here we test to see if the function works when encountering division by 0 using try/catch statements\n",
    "try:\n",
    "    result = divide(8, 0)\n",
    "    print(\"Test failed: Expected ValueError, but got result:\", result)\n",
    "except ValueError as e:\n",
    "    print(\"Test passed:\", str(e))"
   ]
  },
  {
   "cell_type": "markdown",
   "metadata": {},
   "source": [
    "## Now we test using a if/else statement.\n",
    "> Here we force the function to do division by 0 using a if statement.<br>\n",
    "> If an output is returned from the function, the function has failed, but if there is no output then the function passed."
   ]
  },
  {
   "cell_type": "code",
   "execution_count": null,
   "metadata": {},
   "outputs": [],
   "source": [
    "# Here we test to see if the function works when encountering division by 0 using if/else statements\n",
    "result = None\n",
    "if 0!=0:\n",
    "    result = divide(8, 0)\n",
    "if result is not None:\n",
    "    print(\"Test failed: Expected ValueError, but got result:\", result)\n",
    "else:\n",
    "    print(\"Test passed: divide(8, 0) correctly handled division by zero.\")"
   ]
  }
 ],
 "metadata": {
  "language_info": {
   "name": "python"
  },
  "orig_nbformat": 4
 },
 "nbformat": 4,
 "nbformat_minor": 2
}
