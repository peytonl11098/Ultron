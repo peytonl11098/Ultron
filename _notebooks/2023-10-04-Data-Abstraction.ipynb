{
 "cells": [
  {
   "cell_type": "markdown",
   "metadata": {},
   "source": [
    "---\n",
    "layout: post\n",
    "title: Data Abstraction\n",
    "description: Lesson on Data Abstractions\n",
    "courses: {\"compsci\": {week: 7} }\n",
    "type: hacks\n",
    "author: Austin Zhang\n",
    "---"
   ]
  },
  {
   "cell_type": "code",
   "execution_count": 7,
   "metadata": {},
   "outputs": [
    {
     "name": "stdout",
     "output_type": "stream",
     "text": [
      "25\n",
      "0.8823529411764706\n",
      "My first name is Peyton and my last name is Leigh\n",
      "My first name is Aiden and my last name is Leigh\n"
     ]
    }
   ],
   "source": [
    "num1Int = 10\n",
    "num2Int = 15\n",
    "sum = num1Int+num2Int\n",
    "print(sum)\n",
    "\n",
    "float1 = 1.5\n",
    "float2 = 1.7\n",
    "quotient = 1.5 / 1.7\n",
    "print(quotient)\n",
    "\n",
    "message = \"My first name is {0} and my last name is {1}\"\n",
    "print(message.format(\"Peyton\", \"Leigh\"))\n",
    "print(message.format(\"Aiden\", \"Leigh\"))"
   ]
  },
  {
   "cell_type": "code",
   "execution_count": 8,
   "metadata": {
    "vscode": {
     "languageId": "javascript"
    }
   },
   "outputs": [
    {
     "ename": "SyntaxError",
     "evalue": "invalid syntax (75987505.py, line 1)",
     "output_type": "error",
     "traceback": [
      "\u001b[0;36m  Cell \u001b[0;32mIn[8], line 1\u001b[0;36m\u001b[0m\n\u001b[0;31m    const colors = [\"Reaver\", \"RGX\", \"BlastX\", \"Spectrum\", \"Origin\"]\u001b[0m\n\u001b[0m          ^\u001b[0m\n\u001b[0;31mSyntaxError\u001b[0m\u001b[0;31m:\u001b[0m invalid syntax\n"
     ]
    }
   ],
   "source": [
    "const colors = [\"Reaver\", \"RGX\", \"BlastX\", \"Spectrum\", \"Origin\"]"
   ]
  },
  {
   "cell_type": "code",
   "execution_count": null,
   "metadata": {
    "vscode": {
     "languageId": "javascript"
    }
   },
   "outputs": [],
   "source": [
    "variablelist = [7, 9, 2, 8]"
   ]
  },
  {
   "cell_type": "code",
   "execution_count": null,
   "metadata": {},
   "outputs": [
    {
     "name": "stdout",
     "output_type": "stream",
     "text": [
      "15\n",
      "0.6829268292682927\n",
      "My first name is Austin and my last name is Zhang\n",
      "My first name is David and my last name is Lee\n",
      "Hi! How are you, Austin\n"
     ]
    }
   ],
   "source": [
    "num1int = 7\n",
    "num2int = 8\n",
    "sum = num2int + num1int\n",
    "print(sum)\n",
    "\n",
    "float1 = 5.6\n",
    "float2 = 8.2\n",
    "quotient = 5.6/8.2\n",
    "print(quotient)\n",
    "\n",
    "message = \"My first name is {0} and my last name is {1}\"\n",
    "print(message.format(\"Peyton\", \"Leigh\"))\n",
    "print(message.format(\"Aiden\", \"Kim\"))\n",
    "\n",
    "name = input(\"Enter your name: \")\n",
    "print(\"Hi! How are you,\", name)"
   ]
  }
 ],
 "metadata": {
  "kernelspec": {
   "display_name": "Python 3",
   "language": "python",
   "name": "python3"
  },
  "language_info": {
   "codemirror_mode": {
    "name": "ipython",
    "version": 3
   },
   "file_extension": ".py",
   "mimetype": "text/x-python",
   "name": "python",
   "nbconvert_exporter": "python",
   "pygments_lexer": "ipython3",
   "version": "3.11.5"
  },
  "orig_nbformat": 4
 },
 "nbformat": 4,
 "nbformat_minor": 2
}
