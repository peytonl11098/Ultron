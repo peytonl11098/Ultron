{
 "cells": [
  {
   "cell_type": "markdown",
   "metadata": {},
   "source": [
    "---\n",
    "toc: true\n",
    "layout: default\n",
    "title: College Board MCQ Blog\n",
    "description: Reflection, Test Corrections, and what to improve upon\n",
    "courses: { compsci: {week: 17} }\n",
    "type: hacks\n",
    "---"
   ]
  },
  {
   "cell_type": "markdown",
   "metadata": {},
   "source": [
    "## Journey\n",
    "* Last trimester, I scored 60/66 on the 2018 Practice MCQ so I’m content with the score I received\n",
    "* The team teaches in class were a great help to me duirng the answering of these questions. Questions, such as 38, which asked about the benfits of IPv6 over IPv4 would have been a foreign concept if not for the team teach lesson on \"The Internet\"\n",
    "* The \"Routing and Computing\" lesson helped me with problems, such as 43, in which I needed to determine redundant routing and answer with the optimal configuration between two devices\n",
    "* The \"Legal and Ethical Concerns\" lesson helped me with questions such as 48, which referenced phishing attacks and an example of it in everyday life\n",
    "* My knowledge on binary that I gained throughout the binary project helped me on questions like 49, in which I had to determine the amount of unique numbers that could be provided given a certain amount of bits for a real life application, such as work enviroments.\n",
    "* I would like to increase my knowledge on Creative Commons and what they provide for Internet users\n",
    "\n",
    "## Corrections\n",
    "* 5 - I need to work on my knowledge of logic gates (and + or) and work on the knowing the outputs of different inputs.\n",
    "\n",
    "Correction: A = false, B = true, C = true, D = true\n",
    "\n",
    "* 14 - Print digits algorithm\n",
    "\n",
    "Correction: Step 3: Display the remainder of number divided by 10 and store the integer quotient in number.\n",
    "\n",
    "* 41 - Research strings, boolean, etc. and their functions. Practice more multiple-multiple choice questions (I, II, or III).\n",
    "TrimLeft and TrimRight\n",
    "\n",
    "Correction: I and III\n",
    "\n",
    "* 56 - Compare execution times of two versions\n",
    "\n",
    "Correction: Version II requires approximately 1 more minute to execute than version I.\n",
    "\n",
    "* 65 - Code segmant stores the substring \"lope\" in animal. It then concatenates \"a\" and \"lope\", stores result \"alope\" in animal. Concatenates the substring \"jack\" and \"alope\", stores result \"jackalope\" in animal.\n",
    "Calls to concat and substring\n",
    "\n",
    "Correction: B and C"
   ]
  },
  {
   "cell_type": "markdown",
   "metadata": {},
   "source": [
    "## Discovery\n",
    "\n",
    "My worst skill was 4.B, which was \"Evaluate and test algorithms and programs\": Determine the result of code segments. To improve, I will take more practice MCQs that include code segments that I will need to determine the results or I need to insert a certain line in order to fix the code.\n",
    "\n",
    "I also missed questions from 2.B \"Develop and implement algorithms\", 3.B \"Develop programs that incorporate abstractions\", and 1.D \"Design and evaluate computational solutions for a purpose\". I believe that I will increase my knowledge by looking through previous team teaches, consulting ChatGPT, and taking more College Board quizzes."
   ]
  },
  {
   "cell_type": "markdown",
   "metadata": {},
   "source": [
    "## Learnings\n",
    "Throughout the College Board quiz, I had learned several lessons that will greatly benefit me in the future. \n",
    "\n",
    "- A key learning for me was found in question 45, The Coin flip simulation. In This question I had to decide which code segments best simulated a player flipping a fair coin three times. I learned that the numbers being randomized and indicated by the sum needed to be repeated and added to simulate the fair coin. In this way, the probabilities would be equal for heads or tails, using the sums to display either a win or loss."
   ]
  }
 ],
 "metadata": {
  "language_info": {
   "name": "python"
  },
  "orig_nbformat": 4
 },
 "nbformat": 4,
 "nbformat_minor": 2
}
