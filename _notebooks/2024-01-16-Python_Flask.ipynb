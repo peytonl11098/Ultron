{
 "cells": [
  {
   "cell_type": "markdown",
   "metadata": {},
   "source": [
    "---\n",
    "toc: False\n",
    "layout: post\n",
    "hide: false\n",
    "title: P2 | Python/Flask\n",
    "description: Team Teach On Python/Flask\n",
    "courses: {'compsci': {'week': 15}}\n",
    "type: tangibles\n",
    "---"
   ]
  },
  {
   "cell_type": "markdown",
   "metadata": {},
   "source": [
    "## Flask & SQLAlchemy!\n",
    "\n",
    "### Overview\n",
    "* SQLAlchemy: Python tool for interacting with SQL databases\n",
    "    * “Pythonic” way of interacting with databases\n",
    "    * Flask-SQLAlchemy: Extension for Flask, bridging Python and SQL databases\n",
    "\n",
    "## Setup to install Flask-SQLAlchemy\n",
    "\n",
    "* Use pip to install Flask-SQLAlchemy in your virtual environment\n",
    "    * SQLAlchemy supports different SQL database systems like mySQL. Additional modules might be required for specific databases\n",
    "\n",
    "## Basics of using a database with Flask\n",
    "\n",
    "* Establish a connection between your Flask app and an existing SQL database\n",
    "    * Understand database username, password, and connection details\n",
    "\n",
    "    * Username and password for authentication\n",
    "    * Connection specifies the location and characteristics of the database server, including its address and port number.\n",
    "\n",
    "    * learn Flask-SQLAlchemy syntax for reading data\n",
    "\n",
    "    Go over later in example\n",
    "\n",
    "## Database Interaction Scenarios\n",
    "\n",
    "* Reading from the database - retrieve information from the database to display in your Flask application\n",
    "* Allowing user input to write to the database - enable users to submit data through your Flask application, which gets stored in the database\n",
    "* Populating the database from a CSV file (text file format that uses commas to separate values which stores tabular data)\n",
    "* Web Forms for Database Interaction\n",
    "\n",
    "* Allow users to input data through a user-friendly interface. Use form libraries like WTForms to create web forms in your Flask application which define the structure of the data you want to collect, and they can include various field types (text, checkboxes, dropdowns, etc.).\n",
    "\n",
    "    \n",
    "## Connecting a Database to a Flask App\n",
    "\n",
    "* Understand a basic script for testing database connection\n",
    "* Verify the connection by running the script and checking the browser"
   ]
  },
  {
   "cell_type": "markdown",
   "metadata": {},
   "source": [
    "## SQL and Flask Objects\n",
    "\n",
    "# Database and SQLAlchemy:\n",
    "- Use SQLite for data management.\n",
    "- SQLAlchemy facilitates interaction with the database.\n",
    "- Debugging aids in object examination.\n",
    "\n",
    "# Imports and Flask Objects:\n",
    "- Flask app object: The Flask app object represents the core of a Flask web application. It is created using the Flask() constructor and serves as the central point for configuring the application, defining routes, and managing various components.\n",
    "\n",
    "- SQLAlchemy (SQLA) db object: The SQLAlchemy db object is an instance of the SQLAlchemy class, acting as a bridge between a Flask application and the database. It simplifies database interactions by allowing developers to work with Python objects as if they were database entities, providing a high-level interface for tasks like defining models and performing queries.\n",
    "\n",
    "# Model Definition - User Class:\n",
    "Inherit from db.Model.\n",
    "Define columns, initialization, and CRUD methods.\n",
    "Discuss @property, @<column>.setter, and purpose of CRUD methods.\n",
    "\n",
    "# Initial Data:\n",
    "Use db.create_all() for table initialization.\n",
    "Comment on the process.\n",
    "\n",
    "# User Object Constructors:\n",
    "Implement try/except for exception handling.\n",
    "Discuss the purpose of constructors.\n",
    "\n",
    "# Checking for Credentials and ORM Queries:\n",
    "Verify credentials using ORM Query objects.\n",
    "Comment on the purpose of ORM queries.\n",
    "\n",
    "# Creating a New User:\n",
    "Use SQLAlchemy and custom methods for user creation.\n",
    "Comment on the process.\n",
    "\n",
    "# Reading Users Table:\n",
    "Employ SQLAlchemy's query.all for data retrieval.\n",
    "Comment on the purpose and List Comprehension."
   ]
  },
  {
   "cell_type": "markdown",
   "metadata": {},
   "source": [
    "# Introduction to Python and Flask\n",
    "- Python: A versatile programming language known for its readability and wide range of applications. Essential in web development, data science, automation, and more.\n",
    "- Flask:  A lightweight web framework for Python, ideal for small to medium web applications. Flask allows for easy setup and flexible application structure.\n",
    "\n",
    "## Setting up the Environment\n",
    "- Installing Python: Download Python from python.org. Choose the version compatible with your operating system.\n",
    "- Installing Flask: Use pip, Python’s package installer. Run pip install flask in your command line.\n",
    "\n",
    "## Introduction to SQL and Databases\n",
    "- SQL Basics: A language used to communicate with databases. Commands like SELECT, INSERT, UPDATE, and DELETE allow for data manipulation.\n",
    "- Database Tables and Relationships: Tables store data in rows and columns. Primary keys uniquely identify a row, while foreign keys establish a link between tables.\n",
    "\n",
    "## Creating a User Table in SQL\n",
    "\n"
   ]
  },
  {
   "cell_type": "code",
   "execution_count": null,
   "metadata": {
    "vscode": {
     "languageId": "sql"
    }
   },
   "outputs": [],
   "source": [
    "CREATE TABLE users (\n",
    "    id INT AUTO_INCREMENT PRIMARY KEY,\n",
    "    username VARCHAR(50) NOT NULL,\n",
    "    password VARCHAR(50) NOT NULL,\n",
    "    email VARCHAR(50)\n",
    ");"
   ]
  },
  {
   "cell_type": "markdown",
   "metadata": {},
   "source": [
    "- Security best Practices: Store passwords securely using hashing (e.g., bcrypt). Never store plain text passwords.\n",
    "\n",
    "## Integrating Flask with SQL\n",
    "- Flask-SQL_Alchemy: An extension that adds support for SQLAlchemy to your Flask application.\n",
    "- Connecting Flask to a Database: python"
   ]
  },
  {
   "cell_type": "code",
   "execution_count": null,
   "metadata": {
    "vscode": {
     "languageId": "sql"
    }
   },
   "outputs": [],
   "source": [
    "from flask import Flask\n",
    "from flask_sqlalchemy import SQLAlchemy\n",
    "\n",
    "app = Flask(name)\n",
    "app.config['SQLALCHEMY_DATABASE_URI'] = 'sqlite:///site.db'\n",
    "db = SQLAlchemy(app)"
   ]
  },
  {
   "cell_type": "markdown",
   "metadata": {},
   "source": [
    "## CRUD Operions in Flask\n",
    "- Create (Inserting Data): Python"
   ]
  },
  {
   "cell_type": "code",
   "execution_count": null,
   "metadata": {
    "vscode": {
     "languageId": "sql"
    }
   },
   "outputs": [],
   "source": [
    "@app.route('/add_user', methods=['POST'])\n",
    "def add_user():\n",
    "    username = request.form['username']\n",
    "    password = request.form['password']\n",
    "    new_user = User(username=username, password=password)\n",
    "    db.session.add(new_user)\n",
    "    db.session.commit()\n",
    "    return 'User added'"
   ]
  },
  {
   "cell_type": "markdown",
   "metadata": {},
   "source": [
    "- Read (Querying Data): Python"
   ]
  },
  {
   "cell_type": "code",
   "execution_count": null,
   "metadata": {
    "vscode": {
     "languageId": "sql"
    }
   },
   "outputs": [],
   "source": [
    "@app.route('/users')\n",
    "def users():\n",
    "    users = User.query.all()\n",
    "    return render_template('users.html', users=users)\n",
    "Update and Delete: Similar structure to Create and Read, with appropriate SQL commands.\n",
    "Building a User Registration Form\n",
    "HTML Form:\n",
    "html\n",
    "Copy code\n",
    "<form action=\"/add_user\" method=\"post\">\n",
    "    <input type=\"text\" name=\"username\" placeholder=\"Username\">\n",
    "    <input type=\"password\" name=\"password\" placeholder=\"Password\">\n",
    "    <input type=\"submit\" value=\"Register\">\n",
    "</form>"
   ]
  },
  {
   "cell_type": "markdown",
   "metadata": {},
   "source": [
    "- Handling Form Data in Flask: Use the request object to access form data\n",
    "\n",
    "## Conclusion\n",
    "Recap the importance of integrating Flask with SQL for user management. Encourgae further exploration of Flask and more comples SQL operations.\n",
    "\n",
    "## Database and SQLAlchemy\n",
    "\n",
    "### Overview\n",
    "This section introduces the use of SQLAlchemy with a SQLite database to demonstrate how programs interact with data, emphasizing the iterative, interactive nature of processing information and managing data using classes and tables. It aligns with the College Board's emphasis on program usage, managing data, insight, filter systems, and application in programming.\n",
    "\n",
    "## Imports and Flask Objects\n",
    "### Purpose\n",
    "The imports initialize the Flask app and SQLAlchemy, which are essential for creating a web application connected to a database.\n",
    "### Flask app object\n",
    "This is the core of the Flask application, used for handling web requests.\n",
    "### SQLAlchemy db object\n",
    "This is the core of the ORM, used for database interactions in an object-oriented manner.\n",
    "\n",
    "## Model Definition\n",
    "\n",
    "### Class User and db.Model Inheritance\n",
    "This is where the User model is defined, inheriting from db.Model of SQLAlchemy, which facilitates database operations in an object-oriented way.\n",
    "### Init Method and Property Decorators\n",
    "The init method sets up the initial state of the User object, while @property and setter methods define how to access and modify the object's attributes.\n",
    "### CRUD Methods\n",
    "Methods for creating, reading, updating, and deleting records in the database are defined here, making use of SQLAlchemy's ORM capabilities for streamlined database interactions.\n",
    "\n",
    "## Inital Data\n",
    "\n",
    "### Function initUsers\n",
    "This function initializes the database and populates it with test data using User model instances. The use of try/except blocks ensures graceful handling of errors, such as duplicate data.\n",
    "Check for Given Credentials\n",
    "\n",
    "### Fuctionality\n",
    "The find_by_uid function retrieves a user from the database based on the unique identifier, while check_credentials validates user credentials.\n",
    "\n",
    "### SQLAlchemy Use\n",
    "Utilizes SQLAlchemy's query-building methods for efficient database searches.\n",
    "\n",
    "## Create a New User\n",
    "\n",
    "### Process\n",
    "The create function demonstrates adding a new user to the database, showcasing input handling, object initialization, and error management.\n",
    "\n",
    "### User Creation Logic\n",
    "Involves checking for existing users, handling date inputs, and using the custom create method of the User model for database insertion.\n",
    "\n",
    "## Reading Users Table\n",
    "\n",
    "### Method\n",
    "The read function uses SQLAlchemy's query.all method to retrieve all users from the database.\n",
    "\n",
    "### Data Formatting\n",
    "Implements list comprehension to format the user data into a JSON-friendly structure, making it easier to handle in web applications.\n",
    "\n",
    "## Hacks (Suggestions for Extension)\n",
    "### Persionalization\n",
    "Encourages reader to implement these examples in their own projects, adapting and expanding upon the CRUD fuctionality.\n",
    "### Enhancements\n",
    "Suggests adding update and delete functionalities to provide a comprehensive undetstanding of CRUD operations in a databsae context"
   ]
  }
 ],
 "metadata": {
  "kernelspec": {
   "display_name": "Python 3",
   "language": "python",
   "name": "python3"
  },
  "language_info": {
   "codemirror_mode": {
    "name": "ipython",
    "version": 3
   },
   "file_extension": ".py",
   "mimetype": "text/x-python",
   "name": "python",
   "nbconvert_exporter": "python",
   "pygments_lexer": "ipython3",
   "version": "3.11.1"
  },
  "orig_nbformat": 4
 },
 "nbformat": 4,
 "nbformat_minor": 2
}
