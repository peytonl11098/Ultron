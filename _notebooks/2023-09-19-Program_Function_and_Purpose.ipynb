{
 "cells": [
  {
   "cell_type": "markdown",
   "metadata": {},
   "source": [
    "---\n",
    "toc: true\n",
    "comments: false\n",
    "layout: post\n",
    "title: Program Function and Purpose\n",
    "description: Program Fuction\n",
    "type: tangibles\n",
    "courses: { compsci: {week: 5} }\n",
    "---"
   ]
  },
  {
   "cell_type": "code",
   "execution_count": 1,
   "metadata": {},
   "outputs": [
    {
     "name": "stdout",
     "output_type": "stream",
     "text": [
      "Hello World\n"
     ]
    }
   ],
   "source": [
    "#Program with an output\n",
    "print(\"Hello World\")"
   ]
  },
  {
   "cell_type": "code",
   "execution_count": 2,
   "metadata": {},
   "outputs": [
    {
     "name": "stdout",
     "output_type": "stream",
     "text": [
      "hi fella kaiyigga\n"
     ]
    }
   ],
   "source": [
    "#Program with an input and output5\n",
    "greeting = input(\"Provide a greeting: \")\n",
    "name = input(\"Provide a name: \")\n",
    "print(greeting + \" \" + name)"
   ]
  },
  {
   "cell_type": "code",
   "execution_count": 3,
   "metadata": {},
   "outputs": [
    {
     "name": "stdout",
     "output_type": "stream",
     "text": [
      "Apple\n",
      "Banana\n",
      "Grape\n",
      "Watermelon\n",
      "Cherry\n",
      "Strawberry\n",
      "Blueberry\n"
     ]
    }
   ],
   "source": [
    "#Program with a List\n",
    "fruits = [\"Apple\", \"Banana\", \"Grape\", \"Watermelon\", \"Cherry\", \"Strawberry\", \"Blueberry\"]\n",
    "for fruit in fruits:\n",
    "    print(fruit)"
   ]
  },
  {
   "cell_type": "code",
   "execution_count": 4,
   "metadata": {},
   "outputs": [
    {
     "name": "stdout",
     "output_type": "stream",
     "text": [
      "Name: Kaiyu\n",
      "Age: 16\n",
      "Grade: C\n"
     ]
    }
   ],
   "source": [
    "#Program with a Dictionary\n",
    "student = {\"name\": \"Kaiyu\", \"age\": 16, \"grade\": \"C\"}\n",
    "print(\"Name:\", student[\"name\"])\n",
    "print(\"Age:\", student[\"age\"])\n",
    "print(\"Grade:\", student[\"grade\"])"
   ]
  },
  {
   "cell_type": "code",
   "execution_count": 5,
   "metadata": {},
   "outputs": [
    {
     "name": "stdout",
     "output_type": "stream",
     "text": [
      "1\n",
      "12\n",
      "123\n",
      "1234\n",
      "12345\n",
      "123456\n",
      "1234567\n",
      "12345678\n",
      "123456789\n"
     ]
    }
   ],
   "source": [
    "#Program with an Iteration\n",
    "s = \"\"\n",
    "for i in range(1,10):\n",
    "    s += str(i) + \"\"\n",
    "    print(s)"
   ]
  },
  {
   "cell_type": "code",
   "execution_count": 6,
   "metadata": {},
   "outputs": [
    {
     "name": "stdout",
     "output_type": "stream",
     "text": [
      "5.0 - 5.0 = 0.0 (Operation: subtraction)\n"
     ]
    }
   ],
   "source": [
    "#Program with a Function to perform mathematical and/or a statistical calculations\n",
    "def add_numbers(a, b):\n",
    "    return a + b\n",
    "def subtract_numbers(a, b):\n",
    "    return a - b\n",
    "def multiply_numbers(a, b):\n",
    "    return a * b\n",
    "def divide_numbers(a, b):\n",
    "    if b == 0:\n",
    "        return \"Error: Division by zero is not allowed.\"\n",
    "    return a / b\n",
    "num1 = float(input(\"Enter the first number: \"))\n",
    "num2 = float(input(\"Enter the second number: \"))\n",
    "operation = input(\"Choose operation (+ for addition, - for subtraction, * for multiplication, / for division): \")\n",
    "if operation == '+':\n",
    "    result = add_numbers(num1, num2)\n",
    "    operation_symbol = \"addition\"\n",
    "elif operation == '-':\n",
    "    result = subtract_numbers(num1, num2)\n",
    "    operation_symbol = \"subtraction\"\n",
    "elif operation == '*':\n",
    "    result = multiply_numbers(num1, num2)\n",
    "    operation_symbol = \"multiplication\"\n",
    "elif operation == '/':\n",
    "    result = divide_numbers(num1, num2)\n",
    "    operation_symbol = \"division\"\n",
    "else:\n",
    "    result = \"Invalid operation\"\n",
    "    operation_symbol = \"\"\n",
    "if operation_symbol:\n",
    "    print(f\"{num1} {operation} {num2} = {result} (Operation: {operation_symbol})\")\n",
    "else:\n",
    "    print(result)"
   ]
  },
  {
   "cell_type": "code",
   "execution_count": 7,
   "metadata": {},
   "outputs": [
    {
     "name": "stdout",
     "output_type": "stream",
     "text": [
      "You have an A\n"
     ]
    }
   ],
   "source": [
    "#Program with a Conditional\n",
    "grade = int(input(\"Input your grade %\"))\n",
    "if grade >= 90:\n",
    "    print(\"You have an A\")\n",
    "elif grade >= 80:\n",
    "    print(\"You have a B\")\n",
    "elif grade >= 70:\n",
    "    print(\"You have a C\")\n",
    "elif grade >= 60:\n",
    "    print(\"You have a D\")\n",
    "else:\n",
    "    print(\"You have an F\")"
   ]
  },
  {
   "cell_type": "code",
   "execution_count": 8,
   "metadata": {},
   "outputs": [
    {
     "name": "stdout",
     "output_type": "stream",
     "text": [
      "The weight in kilograms is 226.76\n"
     ]
    }
   ],
   "source": [
    "# Program with Purpose\n",
    "weightInPounds = input(\"Input the weight in pounds: \")\n",
    "weightInKilograms = float(weightInPounds) / 2.205\n",
    "roundedWeightInKilograms = round(weightInKilograms, 2)\n",
    "print(\"The weight in kilograms is \" + str(roundedWeightInKilograms))"
   ]
  }
 ],
 "metadata": {
  "kernelspec": {
   "display_name": "Python 3",
   "language": "python",
   "name": "python3"
  },
  "language_info": {
   "codemirror_mode": {
    "name": "ipython",
    "version": 3
   },
   "file_extension": ".py",
   "mimetype": "text/x-python",
   "name": "python",
   "nbconvert_exporter": "python",
   "pygments_lexer": "ipython3",
   "version": "3.11.5"
  },
  "orig_nbformat": 4
 },
 "nbformat": 4,
 "nbformat_minor": 2
}
