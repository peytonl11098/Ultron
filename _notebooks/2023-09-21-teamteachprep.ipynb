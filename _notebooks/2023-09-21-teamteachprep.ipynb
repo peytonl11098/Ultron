{
 "cells": [
  {
   "cell_type": "markdown",
   "metadata": {},
   "source": [
    "---\n",
    "layout: post\n",
    "title: Team Teach\n",
    "description: Lesson on Lists + Binary Search\n",
    "courses: {\"compsci\": {week: 5} }\n",
    "type: hacks\n",
    "comments: true\n",
    "---"
   ]
  },
  {
   "cell_type": "markdown",
   "metadata": {},
   "source": [
    "# Lists + Binary Search"
   ]
  },
  {
   "cell_type": "markdown",
   "metadata": {},
   "source": [
    "## List Operations \n",
    "\n",
    "- aList[i] - This access your list at index i. An index is a numeric value that represents the position of an element within that data structure. For example, the first element of aList is at index 1, represented by aList[1]. \n",
    "- x <- aList[i] - Assigns value of aList[i] to variable x\n",
    "- aList[i] <- x - Assigns value of x to aList[i]\n",
    "- aList[i] <- aList[j] - Assigns value of aList[j] to aList[i]\n",
    "    \n",
    "- INSERT(aList, i , value) - aList is the list in which you want to insert the value. i is the index at which you want to insert the value. value is the value you want to insert at that index\n",
    "- APPEND(aList, value) - The value you put in is placed at the end of aList\n",
    "- REMOVE(aList, i) - aList is the list in which you want to delete the value. i is the index at which you want to delete the value.\n",
    "- LENGTH(aList) - Gives you the number of elements in aList\n",
    "\n",
    "- FOR EACH item IN aList {\n",
    "    blah blah blah\n",
    "} - Item is a var assigned each element of aList in order from first element to last. The code inside the for loop is run once for every assignment of item. "
   ]
  },
  {
   "cell_type": "code",
   "execution_count": null,
   "metadata": {
    "vscode": {
     "languageId": "plaintext"
    }
   },
   "outputs": [],
   "source": [
    "1. \n",
    "FOR EACH item IN aList {  \n",
    "    PRINT(item)  \n",
    "}\n",
    "\n",
    "This code iterates through each element (item) in the list aList and for each item, it prints the value of that item.\n",
    "\n",
    "\n",
    "2. \n",
    "FOR i FROM 0 TO LENGTH(aList) {\n",
    "    IF aList[i] == 42 THEN\n",
    "        PRINT(\"Found 42 at index \" + i)\n",
    "}\n",
    "\n",
    "This code iterates through each index from 0 to LENGTH(aList). For each index i, it checks if the value at that index in aList is equal to 42. \n",
    "If it finds 42 at any index, it prints a message indicating that it found 42 at that index."
   ]
  },
  {
   "cell_type": "markdown",
   "metadata": {},
   "source": [
    "3. What does this code output\n",
    "<br>\n",
    "<br>\n",
    "![image](https://i.stack.imgur.com/OhUEQ.png)\n",
    "<br>\n",
    "<br>\n",
    "<br>\n",
    "unusual, bold, away; index = 3"
   ]
  },
  {
   "cell_type": "markdown",
   "metadata": {},
   "source": [
    "## Comparing Python and College Board Pseudo Code"
   ]
  },
  {
   "cell_type": "code",
   "execution_count": null,
   "metadata": {
    "vscode": {
     "languageId": "plaintext"
    }
   },
   "outputs": [],
   "source": [
    "Creating a List\n",
    "Python: my_list = [1, 2, 3]\n",
    "Pseudo Code: my_list ← [1, 2, 3]\n",
    "\n",
    "Accessing Elements\n",
    "Python: value = my_list[index]\n",
    "Pseudo Code: value <- my_list[index]\n",
    "\n",
    "Appending Elements\n",
    "Python: my_list.append(new_value)\n",
    "Pseudo Code: Append new_value to my_list\n",
    "\n",
    "Inserting Elements\n",
    "Python: my_list.insert(index, new_value)\n",
    "Pseudo Code: Insert new_value at index in my_list\n",
    "\n",
    "Removing Elements\n",
    "Python: my_list.remove(value)\n",
    "Pseudo Code: Remove value from my_list\n",
    "\n",
    "Modifying Elements\n",
    "Python: my_list[index] = new_value\n",
    "Pseudo Code: my_list[index] <- new_value\n",
    "\n",
    "Checking Length\n",
    "Python: length = len(my_list)\n",
    "Pseudo Code: length <- Length of my_list\n",
    "\n",
    "Iterating through a List\n",
    "Python: for item in my_list: \n",
    "{ <block of statement> }\n",
    "Pseudo Code: For each item in my_list: \n",
    "{ <block of statement> }\n",
    "\n",
    "Checking for Existence\n",
    "Python: if value in my_list:\n",
    "{ <block of statement> }\n",
    "Pseudo Code: If value is in my_list: \n",
    "{ <block of statement> }\n",
    "\n",
    "List Slicing\n",
    "Python: sub_list = my_list[start:end]\n",
    "Pseudo Code: sub_list <- my_list[start:end]"
   ]
  },
  {
   "cell_type": "markdown",
   "metadata": {
    "vscode": {
     "languageId": "plaintext"
    }
   },
   "source": [
    "# Popcorn Hack\n",
    "Add 5 to the list in between 4 and 6 in both python and pseudo code\n",
    "list = [1, 2, 3, 4, 6, 7]"
   ]
  },
  {
   "cell_type": "markdown",
   "metadata": {},
   "source": [
    "## More Pseudo Code and Python"
   ]
  },
  {
   "cell_type": "code",
   "execution_count": null,
   "metadata": {
    "vscode": {
     "languageId": "plaintext"
    }
   },
   "outputs": [],
   "source": [
    "Psuedocode for Sum of Even Number List\n",
    "Set sum to 0\n",
    "For each score in the list nums:\n",
    "    If (score MOD 2 = 0):\n",
    "        Add score to sum\n",
    "Display the value of sum as the sum of even numbers in the list\n",
    "\n",
    "In Python:\n",
    "nums = [1, 2, 3, 4, 5, 6, 7, 8, 9, 10]\n",
    "even_sum = 0\n",
    "for score in nums:\n",
    "    if score % 2 == 0: # Check if the remainder when divided by 2 is 0 (even number)\n",
    "        even_sum += score # If previous requirement is fulfilled, add to sum\n",
    "print(\"Sum of even numbers in the list:\", even_sum)"
   ]
  },
  {
   "cell_type": "code",
   "execution_count": null,
   "metadata": {
    "vscode": {
     "languageId": "plaintext"
    }
   },
   "outputs": [],
   "source": [
    "Minimum Value List:\n",
    "def find_minimum_value(input_list):\n",
    "    if len(input_list) == 0:\n",
    "        return None  \n",
    "    min_value = input_list[0]\n",
    "    for num in input_list[1:]:\n",
    "        if num < min_value:\n",
    "            min_value = num  \n",
    "    return min_value\n",
    "my_list = [5, 2, 9, 1, 8, 3]\n",
    "min_value = find_minimum_value(my_list)\n",
    "print(\"Minimum value:\", min_value)"
   ]
  },
  {
   "cell_type": "markdown",
   "metadata": {},
   "source": [
    "## Binary Search\n",
    "\n",
    "- Binary Search is a method of searching for an element in a list. <br>\n",
    "- Binary Search is faster than Linear Search <br>\n",
    "- How does Binary Search work?\n",
    "![image](https://media.geeksforgeeks.org/wp-content/uploads/20220309171621/BinarySearch.png)<br>\n",
    "\n",
    "- Worst Case Scenario: 4 Iterations <br> <br><br>\n"
   ]
  },
  {
   "cell_type": "code",
   "execution_count": null,
   "metadata": {},
   "outputs": [],
   "source": [
    "arr = [2, 7, 12, 29, 33, 50, 59, 61, 68, 88, 91]\n",
    "iterations = 0\n",
    "def binary_search(arr, target, iterations):\n",
    "    left = 0\n",
    "    right = len(arr) - 1\n",
    "\n",
    "    while left <= right:\n",
    "        mid = (left + right) // 2\n",
    "        iterations += 1\n",
    "\n",
    "        if arr[mid] == target:\n",
    "            return mid  # Element found, return its index\n",
    "        elif arr[mid] < target:\n",
    "            left = mid + 1  # Search the right half\n",
    "        else:\n",
    "            right = mid - 1  # Search the left half\n",
    "target = 7\n",
    "position = binary_search(arr, target, iterations)\n",
    "print(f\"The element {target} is at index {position}.\")\n",
    "print(f\"Iterations: {iterations}\")"
   ]
  },
  {
   "cell_type": "markdown",
   "metadata": {},
   "source": [
    "### Big O Notation\n",
    "- Big O notation is a way to measure the upper limit of a function's runtime.\n",
    "- Common Big O Notations:\n",
    "* O(1): Constant time (Ex. searching up an element by index)\n",
    "* O(log n): As input size increases, time grows slowly (Binary Search!)\n",
    "* O(n): Linear time: As input size increases, time grows proportionally. (Linear Search)\n",
    "* O(2^n): Exponential time: Highly inefficient, as input size increases, time grows exponentially. (Brute force)\n",
    "* O(n!): Factorial time: Extremely inefficient, often used to find all possible permutations of a problem."
   ]
  },
  {
   "cell_type": "markdown",
   "metadata": {},
   "source": [
    "### Homework\n",
    "1) Write an expression that uses list indexing and list procedures. Write comments on your code to show what each line is doing. \n",
    "2) Write a python function that can determine the worst case number of iterations of a binary search for an array of length 20."
   ]
  },
  {
   "cell_type": "code",
   "execution_count": null,
   "metadata": {
    "vscode": {
     "languageId": "plaintext"
    }
   },
   "outputs": [],
   "source": [
    "3) You have a list `myList` containing the following elements: [10, 20, 30, 40, 50].\n",
    "\n",
    "FOR i FROM 0 TO LENGTH(myList) {\n",
    "    x <- myList[i]\n",
    "    myList[i] <- x * 2\n",
    "}\n",
    "\n",
    "What will be the final content of `myList` after executing this algorithm?\n",
    "\n",
    "A) [20, 40, 60, 80, 100]\n",
    "B) [10, 20, 30, 40, 50]\n",
    "C) [10, 40, 30, 20, 50]\n",
    "D) [50, 40, 30, 20, 10]"
   ]
  }
 ],
 "metadata": {
  "kernelspec": {
   "display_name": "Python 3",
   "language": "python",
   "name": "python3"
  },
  "language_info": {
   "codemirror_mode": {
    "name": "ipython",
    "version": 3
   },
   "file_extension": ".py",
   "mimetype": "text/x-python",
   "name": "python",
   "nbconvert_exporter": "python",
   "pygments_lexer": "ipython3",
   "version": "3.10.12"
  }
 },
 "nbformat": 4,
 "nbformat_minor": 2
}
