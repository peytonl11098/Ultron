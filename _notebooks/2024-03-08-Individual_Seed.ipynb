{
 "cells": [
  {
   "cell_type": "markdown",
   "metadata": {},
   "source": [
    "---\n",
    "toc: False\n",
    "layout: post\n",
    "hide: false\n",
    "comments: true\n",
    "title: Individual Seed Review\n",
    "description: Trimester 3 Individual Seed\n",
    "courses: {'compsci': {'week': 24}}\n",
    "type: tangibles\n",
    "---"
   ]
  },
  {
   "cell_type": "markdown",
   "metadata": {},
   "source": [
    "### Frontend:\n",
    "[Link to Frontend](https://github.com/tarasehdave/volunteer-frontend)\n",
    "\n",
    "### Backend:\n",
    "[Link to Backend](https://github.com/tarasehdave/volunteer_backend)\n",
    "\n",
    "### Commits:\n",
    "[Link to Commits](https://github.com/peytonl11098)\n",
    "\n",
    "### Group Work:\n",
    "By coding each of our unique features independently, Tara, Alara, Kayden, and I were able to achieve our objectives. We integrated everything in the end, despite deployment problems.\n",
    "\n",
    "### CPT Project Feature:\n",
    "My feature allows the user to create an account and login. It stores their data in a table that they and admins can view. Admins can then access a separate table of their own that allows them to use CRUD to create, edit, or users.\n",
    "\n",
    "### Progress Issue\n",
    "[Summary](https://github.com/tarasehdave/volunteer-frontend/issues/2)\n",
    "\n",
    "### CPT Feature\n",
    "[CPT Writeup Meeting College Board Requirements](https://peytonl11098.github.io/Ultron/2024/02/25/Individual_Review_IPYNB_2_.html)"
   ]
  }
 ],
 "metadata": {
  "language_info": {
   "name": "python"
  },
  "orig_nbformat": 4
 },
 "nbformat": 4,
 "nbformat_minor": 2
}
