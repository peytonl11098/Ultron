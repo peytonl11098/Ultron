{
 "cells": [
  {
   "cell_type": "markdown",
   "metadata": {},
   "source": [
    "---\n",
    "toc: true\n",
    "comments: false\n",
    "layout: post\n",
    "title: Python Dictionaries \n",
    "description: This is an experiment with python dictionaries\n",
    "type: hacks\n",
    "courses: {\"compsci\": {week: 4} }\n",
    "---"
   ]
  },
  {
   "cell_type": "code",
   "execution_count": null,
   "metadata": {},
   "outputs": [],
   "source": [
    "dictionary1 = []\n",
    "dictionary1.append({\n",
    "    \"name\": \"Peyton Leigh\",\n",
    "    \"age\": 16,\n",
    "    \"height\": \"5 1/2 feet\",\n",
    "    \"email\": \"ptleigh08@gmail.com\"    \n",
    "})\n",
    "dictionary1.append({\n",
    "    \"name\": \"David Lee\",\n",
    "    \"age\": 51,\n",
    "    \"height\": \"9 foot\",\n",
    "    \"email\": \"example.test@gmail.com\"    \n",
    "})\n",
    "\n",
    "def function1(record):\n",
    "    print(record[\"name\"])\n",
    "    print(record[\"age\"])\n",
    "    print(record[\"height\"])\n",
    "    print(record[\"email\"])\n",
    "def function2(dictionary1):\n",
    "    for record in dictionary1:\n",
    "         function1(record)\n",
    "function2(dictionary1)"
   ]
  }
 ],
 "metadata": {
  "language_info": {
   "name": "python"
  },
  "orig_nbformat": 4
 },
 "nbformat": 4,
 "nbformat_minor": 2
}
