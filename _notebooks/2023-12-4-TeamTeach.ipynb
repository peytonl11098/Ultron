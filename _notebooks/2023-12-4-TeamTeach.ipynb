{
 "cells": [
  {
   "cell_type": "markdown",
   "metadata": {},
   "source": [
    "---\n",
    "comments: true\n",
    "layout: post\n",
    "title: 5.1 Beneficial and Harmful Effects Team Teach\n",
    "description: While computing innovations are typically designed to achieve a specific purpose, they may have unintended consequences.\n",
    "type: hacks \n",
    "courses: { compsci: {week: 4} }\n",
    "---"
   ]
  },
  {
   "cell_type": "markdown",
   "metadata": {},
   "source": [
    "### Computing innovations have had great contributions to society, improving the quality of living. However, while computing innovations are typically designed to achieve a specific purpose, they may have unintended consequences.\n",
    "\n",
    "#### Multirotor drones used for aerial photography and surveillance (Used by ASB for the social media accounts!)\n",
    "\n",
    "Benefits\n",
    "- Deliveries of packages, easy aerial photography\n",
    "\n",
    "Harmful\n",
    "- Flying in unregulated zones in illegal and dangerous, privaacy concerns\n"
   ]
  },
  {
   "cell_type": "markdown",
   "metadata": {},
   "source": [
    "### A great example of a beneficial computing machine would be 3D printers\n",
    "- Open-source software for the computer and printer\n",
    "- Used in schools and at homes (New classes have been developed for the education of 3D printing)\n",
    "- 3D printers can be used for a variety of applications, creating published models"
   ]
  },
  {
   "cell_type": "markdown",
   "metadata": {},
   "source": [
    "## Unintended Uses\n",
    "- Responsible programmers try to consider the unintended ways their computing innovations can be used and the potential beneficial and harmful effects\n",
    "- It is impossible for programmers to consider all the ways a new computing innovation can be used\n",
    "- Rapid sharing of a program with large number of users can result in significant impacts beyond intended purpose or control of programmer"
   ]
  },
  {
   "cell_type": "markdown",
   "metadata": {},
   "source": [
    "### Examples\n",
    "\n",
    "- Internet - Originally for scientists spreading information\n",
    "- Now, many people spend more time browsing the internet than they do sleeping\n",
    "### Questions\n",
    "Can you imagine your life without the World Wide Web?\n",
    "How different would the world be?\n",
    "How would you reallocate your free time?"
   ]
  },
  {
   "cell_type": "markdown",
   "metadata": {},
   "source": [
    "## Negative Effects\n",
    "Dopamine Feedback Loops\n",
    "- Getting a like from someone you admire on Instragram\n",
    "- People commenting on your posts\n",
    "These things make you feel happy. This makes you seek this feeling of validation and happiness, always wanting to get that next hit of dopamine. This makes you spend more time on the applications (mainly social media), further increasing your dependancy.\n",
    "\n",
    "Have you ever found yourself scrolling on TikTok, Instragram Reels or any other forms of short entertainment?\n",
    "\n",
    "- These applications are targeted to keep you hooked; you can scroll on the video instantaneously, until you find that video that makes your dopamine receptors fire"
   ]
  }
 ],
 "metadata": {
  "language_info": {
   "name": "python"
  },
  "orig_nbformat": 4
 },
 "nbformat": 4,
 "nbformat_minor": 2
}
