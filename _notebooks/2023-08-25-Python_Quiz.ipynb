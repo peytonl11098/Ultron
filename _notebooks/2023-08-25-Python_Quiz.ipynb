{
 "cells": [
  {
   "cell_type": "markdown",
   "metadata": {},
   "source": [
    "---\n",
    "toc: true\n",
    "comments: false\n",
    "layout: post\n",
    "title: Python Practice Quiz \n",
    "description: This is a simple Python Quiz\n",
    "type: hacks\n",
    "courses: {\"compsci\": {week: 1} }\n",
    "---"
   ]
  },
  {
   "cell_type": "code",
   "execution_count": null,
   "metadata": {},
   "outputs": [],
   "source": [
    "name = input(\"Enter your name: \")\n",
    "questions = [\"What command do you type when you want to output a string of text in python: \", \"What keyword would you use to define a function: \", \n",
    "             \"If you see many lines of code in order, what would College Board call it: \", \"What command is used to include other functions that were previously developed: \"]\n",
    "answers = [\"print\", \"def\", \"sequence\", \"import\"]\n",
    "print(\"> Enter your name: Peyton\")\n",
    "print(\"Welcome to the quiz,\", name, \"\\n\")\n",
    "\n",
    "def quiz(questions, answers):\n",
    "    score = 0\n",
    "    for i in range(len(questions)):\n",
    "        answer=input(questions[i]+ \"\\n\")\n",
    "        print(\"> \"+ questions[i] + answer)\n",
    "        if answer == answers[i]:\n",
    "            print(\"Correct!\\n\")\n",
    "            score += 1\n",
    "        else:\n",
    "            print(\"Wrong. The correct answer is \"+ answers[i] + \"\\n\")\n",
    "    percent= 100 * (score/len(answers))\n",
    "    print(\"Your score was \"+str(percent)+ \"%, or \"+ str(score)+\"/\"+str(len(answers)))\n",
    "            \n",
    "quiz(questions, answers)\n",
    "        "
   ]
  }
 ],
 "metadata": {
  "language_info": {
   "name": "python"
  },
  "orig_nbformat": 4
 },
 "nbformat": 4,
 "nbformat_minor": 2
}
