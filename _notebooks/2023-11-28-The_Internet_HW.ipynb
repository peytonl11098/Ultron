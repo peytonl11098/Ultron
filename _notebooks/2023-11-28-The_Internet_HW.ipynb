{
 "cells": [
  {
   "cell_type": "markdown",
   "metadata": {},
   "source": [
    "---\n",
    "toc: true\n",
    "comments: false\n",
    "layout: post\n",
    "title: The Internet\n",
    "description: Homework and notes for the in-class assignment #1\n",
    "type: hacks\n",
    "courses: { compsci: {week: 15} }\n",
    "---"
   ]
  },
  {
   "cell_type": "markdown",
   "metadata": {},
   "source": [
    "# What is the Internet\n",
    "- Mostly works by network infrastructure\n",
    "- Computer talks to router, talks to server, usually works with Cloudflare\n",
    "- HTTP - website protocol, less secure\n",
    "- HTTPS - HTTP with security\n",
    "- IP Address - every computer has unique IP address, helps to route computers\n",
    "- IP Addresses are running out because of the amount of computers being made\n",
    "- 128 bit IPs are being created to combat the limited amount of IP Addresses in 32-bit\n",
    "# Data Packets\n",
    "- Alike to Letters sent in the mail\n",
    "- Contains data about the sender and the message the sender wants to send\n",
    "# Bandwidth\n",
    "- How fast data is transferred\n",
    "- Measured in bits/second\n",
    "- Higher bandwidth = faster the data transferred\n",
    "- Bit = single character of information in binary\n",
    "# Routing\n",
    "- A path is send between sender and receiver, router helps find a path\n",
    "- Routers send users to the correct destinations of the IP"
   ]
  },
  {
   "cell_type": "code",
   "execution_count": null,
   "metadata": {},
   "outputs": [],
   "source": []
  }
 ],
 "metadata": {
  "language_info": {
   "name": "python"
  },
  "orig_nbformat": 4
 },
 "nbformat": 4,
 "nbformat_minor": 2
}
