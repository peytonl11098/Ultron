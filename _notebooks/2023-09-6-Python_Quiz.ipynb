{
 "cells": [
  {
   "cell_type": "markdown",
   "metadata": {},
   "source": [
    "---\n",
    "toc: true\n",
    "comments: false\n",
    "layout: post\n",
    "title: Python Quiz\n",
    "description: Quiz coded on Python\n",
    "type: hacks\n",
    "courses: { compsci: {week: 2} }\n",
    "---"
   ]
  },
  {
   "cell_type": "code",
   "execution_count": null,
   "metadata": {},
   "outputs": [],
   "source": [
    "import getpass, sys\n",
    "\n",
    "def question_with_response(prompt):\n",
    "    print(\"Question: \" + prompt)\n",
    "    msg = input()\n",
    "    return msg\n",
    "\n",
    "questions = [\n",
    "    {\n",
    "        \"question\": \"Which team holds the record for the most Premier League titles?\",\n",
    "        \"options\": [\"Manchester United\", \"Liverpool\", \"Chelsea\", \"Arsenal\"],\n",
    "        \"correct_option\": 1,\n",
    "    },\n",
    "    {\n",
    "        \"question\": \"Who is the all-time top scorer in Premier League history?\",\n",
    "        \"options\": [\"Wayne Rooney\", \"Alan Shearer\", \"Thierry Henry\", \"Frank Lampard\"],\n",
    "        \"correct_option\": 1,\n",
    "    },\n",
    "    {\n",
    "        \"question\": \"Which club won the Premier League in the 2020-2021 season?\",\n",
    "        \"options\": [\"Liverpool\", \"Manchester City\", \"Manchester United\", \"Chelsea\"],\n",
    "        \"correct_option\": 2,\n",
    "    },\n",
    "]\n",
    "\n",
    "print('Hello, ' + getpass.getuser() + \" running \" + sys.executable)\n",
    "print(\"You will be asked \" + str(questions) + \" questions.\")\n",
    "question_and_answer(\"Are you ready to take a test?\")\n",
    "\n",
    "rsp = question_with_response(\"What command is used to include other functions that were previously developed?\")\n",
    "if rsp == \"import\":\n",
    "    print(rsp + \" is correct!\")\n",
    "    correct += 1\n",
    "else:\n",
    "    print(rsp + \" is incorrect!\")\n",
    "\n",
    "rsp = question_with_response(\"What command is used to evaluate correct or incorrect response in this example?\")\n",
    "if rsp == \"if\":\n",
    "    print(rsp + \" is correct!\")\n",
    "    correct += 1\n",
    "else:\n",
    "    print(rsp + \" is incorrect!\")\n",
    "\n",
    "rsp = question_with_response(\"Each 'if' command contains an '_________' to determine a true or false condition?\")\n",
    "if rsp == \"expression\":\n",
    "    print(rsp + \" is correct!\")\n",
    "    correct += 1\n",
    "else:\n",
    "    print(rsp + \" is incorrect!\")\n",
    "\n",
    "print(getpass.getuser() + \" you scored \" + str(correct) +\"/\" + str(questions))"
   ]
  }
 ],
 "metadata": {
  "language_info": {
   "name": "python"
  },
  "orig_nbformat": 4
 },
 "nbformat": 4,
 "nbformat_minor": 2
}
