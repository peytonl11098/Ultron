{
 "cells": [
  {
   "cell_type": "markdown",
   "metadata": {},
   "source": [
    "---\n",
    "toc: true\n",
    "comments: false\n",
    "layout: post\n",
    "title: Python Quiz\n",
    "description: Quiz coded on Python\n",
    "type: hacks\n",
    "courses: { compsci: {week: 2} }\n",
    "---"
   ]
  },
  {
   "cell_type": "code",
   "execution_count": null,
   "metadata": {},
   "outputs": [],
   "source": [
    "import getpass\n",
    "\n",
    "def ask_question(question, options, correct_option):\n",
    "    print(question)\n",
    "    for i, option in enumerate(options, start=1):\n",
    "        print(f\"{i}. {option}\")\n",
    "    \n",
    "    while True:\n",
    "        try:\n",
    "            user_choice = int(input(\"Enter the number of your choice: \"))\n",
    "            if 1 <= user_choice <= len(options):\n",
    "                break\n",
    "            else:\n",
    "                print(\"Invalid choice. Please enter a valid number.\")\n",
    "        except ValueError:\n",
    "            print(\"Invalid input. Please enter a number.\")\n",
    "    \n",
    "    if user_choice == correct_option:\n",
    "        print(\"Correct!\\n\")\n",
    "        return True\n",
    "    else:\n",
    "        print(f\"Sorry, that's incorrect. The correct answer is: {options[correct_option-1]}\\n\")\n",
    "        return False\n",
    "\n",
    "questions = [\n",
    "    {\n",
    "        \"question\": \"Which team holds the record for the most Premier League titles?\",\n",
    "        \"options\": [\"1. Manchester United\", \"2. Liverpool\", \"3. Chelsea\", \"4. Arsenal\"],\n",
    "        \"correct_option\": 1,\n",
    "    },\n",
    "    {\n",
    "        \"question\": \"Who is the all-time top scorer in Premier League history?\",\n",
    "        \"options\": [\"1. Wayne Rooney\", \"2. Alan Shearer\", \"3. Thierry Henry\", \"4. Frank Lampard\"],\n",
    "        \"correct_option\": 1,\n",
    "    },\n",
    "    {\n",
    "        \"question\": \"Which club won the Premier League in the 2020-2021 season?\",\n",
    "        \"options\": [\"1. Liverpool\", \"2. Manchester City\", \"3. Manchester United\", \"4. Chelsea\"],\n",
    "        \"correct_option\": 2,\n",
    "    },\n",
    "]\n",
    "\n",
    "score = 0\n",
    "\n",
    "for question_data in questions:\n",
    "    if ask_question(question_data[\"question\"], question_data[\"options\"], question_data[\"correct_option\"]):\n",
    "        score += 1\n",
    "\n",
    "print(\"Premier League Facts Quiz completed! Your score is:\", score, \"out of\", len(questions))\n"
   ]
  }
 ],
 "metadata": {
  "language_info": {
   "name": "python"
  },
  "orig_nbformat": 4
 },
 "nbformat": 4,
 "nbformat_minor": 2
}
