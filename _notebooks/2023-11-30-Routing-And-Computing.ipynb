{
 "cells": [
  {
   "cell_type": "markdown",
   "metadata": {},
   "source": [
    "---\n",
    "toc: true\n",
    "comments: false\n",
    "layout: post\n",
    "title: Routing and Computing Team Teach + Notes\n",
    "description: Homework and notes for the in-class assignment #2\n",
    "type: hacks\n",
    "courses: { compsci: {week: 15} }\n",
    "---"
   ]
  },
  {
   "cell_type": "markdown",
   "metadata": {},
   "source": [
    "# Networking\n",
    "a network is essentially a bunch of computer or internet devices that are connected with wires so they can communicate"
   ]
  },
  {
   "cell_type": "markdown",
   "metadata": {},
   "source": [
    "![Teamteach](images/Teamteach.png)"
   ]
  },
  {
   "cell_type": "markdown",
   "metadata": {},
   "source": [
    "This network, however, will take a long time to have A comunicate with G. So a network that will work faster is shown below. There are different benefits to each as well, the first one takes less resources, but if one of the wires breaks, the whole comunication fails. But wih the second one, it takes a lot of resources, but if one wire fails, the comunication will still work. This second network in this case is fault tolerent."
   ]
  },
  {
   "cell_type": "markdown",
   "metadata": {},
   "source": [
    "![TeamTeach2](images/TeamTeach2.png)"
   ]
  },
  {
   "cell_type": "markdown",
   "metadata": {},
   "source": [
    "# popcorn hack 1\n",
    "Is this network fault tolerent?\n",
    "\n",
    "No, because there is only one connection between Oakland and Austin"
   ]
  },
  {
   "cell_type": "markdown",
   "metadata": {},
   "source": [
    "![Pop1.png](attachment:Pop1.png)"
   ]
  },
  {
   "cell_type": "markdown",
   "metadata": {},
   "source": [
    "## Redundancy\n",
    "The Internet is fault tolerant and has been made to withstand errors or problems that may occur. It does this by using redundancy. Redundancy is the inclusion of extra components in order to mitigate the failure of one part of the system. One method of to achieve this is having multiple paths between connected devices allowing transfers to have alternative routes. If a route fails the data will be sent down a different path. Fault tolerance allows users to use a network even if there are  system failures. One example where redundancy wasn't present was the backend during the night at the museum. The pathway to transfer data likely broke, and there was no redundancy to allow for an alternative path."
   ]
  },
  {
   "cell_type": "markdown",
   "metadata": {},
   "source": [
    "## Popcorn Hack #2\n",
    "What would make this network fault-tolerant. \n",
    "Insert image 4.2 video 2 3:57\n",
    "\n",
    "Connecting Oakland to Tampa would make this network fault-tolerant"
   ]
  },
  {
   "cell_type": "markdown",
   "metadata": {},
   "source": [
    "## What is Computing?"
   ]
  },
  {
   "cell_type": "markdown",
   "metadata": {},
   "source": [
    "The operation or use of computers"
   ]
  },
  {
   "cell_type": "markdown",
   "metadata": {},
   "source": [
    "## Notes\n",
    "- Network: system of computers connected with wire to communicate\n",
    "- fault tolerant: if one wire fails, the communication will still work\n",
    "- Internet is fault tolerant\n",
    "- Computing: use or operation of computers, includes: designing and building hardware and software systems for processing structuring, and managing various kinds of information, doing scientific studies using computers, making computer systems behave intelligently, creating and using communications, etc.\n",
    "\n",
    "Sequential Computing:\n",
    "- Computer works on one task at a time\n",
    "- Each task is dependant on the task before it\n",
    "- Execution time equals the sum of time it takes for each individual tasks to run\n",
    "\n",
    "Parallel Computing: \n",
    "- Schedules tasks to run at the same time\n",
    "- Normally all done on the same computer\n",
    "- Contains sequential and parallel portion\n",
    "- Intensive on resources\n",
    "- Usually faster than sequential, can scale easier\n",
    "- Execution time equals length of longest task\n",
    "\n",
    "Distributed Computing:\n",
    "- Sending tasks to other computers to reduce load\n",
    "- Mix of sequential and parallel computing\n",
    "- Requires a network to send tasks\n",
    "- Can take longer amount of time, based on network and waiting for responses from other computers"
   ]
  }
 ],
 "metadata": {
  "language_info": {
   "name": "python"
  },
  "orig_nbformat": 4
 },
 "nbformat": 4,
 "nbformat_minor": 2
}
