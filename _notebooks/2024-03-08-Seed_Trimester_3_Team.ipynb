{
 "cells": [
  {
   "cell_type": "markdown",
   "metadata": {},
   "source": [
    "---\n",
    "toc: False\n",
    "layout: post\n",
    "hide: false\n",
    "comments: true\n",
    "title: Team Seed Review\n",
    "description: Trimester 3 Team Seed\n",
    "courses: {'compsci': {'week': 24}}\n",
    "type: tangibles\n",
    "---"
   ]
  },
  {
   "cell_type": "markdown",
   "metadata": {},
   "source": [
    "1. Establish Groups (Ethan R, Aidan D, Peyton L, Jayden C)\n",
    "- Big group with David L's group\n",
    "2. Complete Debugging Issue\n",
    "3. Start working on titanic machine learning assignment\n",
    "\n",
    "### Develop teacher provided by:\n",
    "- Integrating machine learning topics into project\n",
    "- Create a frontend UI page for titanic survival code (Lebron Statistics)\n",
    "- Add functions to the code to account for more variables\n",
    "- Add constraints and parameters to make more accurate and realistic\n",
    "4. Organization\n",
    "- Pull requests\n",
    "- Updated issues wth newest information on our project"
   ]
  }
 ],
 "metadata": {
  "language_info": {
   "name": "python"
  },
  "orig_nbformat": 4
 },
 "nbformat": 4,
 "nbformat_minor": 2
}
