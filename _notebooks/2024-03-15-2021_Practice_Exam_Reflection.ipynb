{
 "cells": [
  {
   "cell_type": "markdown",
   "metadata": {},
   "source": [
    "---\n",
    "toc: False\n",
    "layout: post\n",
    "hide: false\n",
    "comments: true\n",
    "title: 2021 Practice Exam\n",
    "description: 2021 Practice Exam Reflection\n",
    "courses: {'compsci': {'week': 25}}\n",
    "type: tangibles\n",
    "---"
   ]
  },
  {
   "cell_type": "markdown",
   "metadata": {},
   "source": [
    "### My Score\n",
    "- I scored a **65/70** or **92.9%**\n",
    "\n",
    "### Journey\n",
    "- Last trimester, I scored 62/67 on the 2020 Practice MCQ so I’m happy with the score I received on the most recent test\n",
    "- The team teaches in class last trimester were beneficial to me duirng the answering of these questions. Questions from the \"5\" topic, which asked about general information about computing and the internet were made clear from the several team teaches\n",
    "- I struggled on the topics of 2.B (Develop and implement algorithms) and 3.B (Develop programs that incorporate abstractions) the most, missing two questions in each.\n",
    "- I also missed a problem in the topic 1.B (Design and evaluate computational solutions for a purpose)\n",
    "\n",
    "# Corrections\n",
    "#### 45. Using botStepper procedure\n",
    "Correct Answer: C\n",
    "\n",
    "Incorrect. In this code segment, the first call to botStepper moves the robot forward two squares, rotates it left so that it faces toward the top of the grid, moves it forward two squares, and rotates it right so that it faces right. The second call to botStepper moves the robot forward three squares, rotates it left so that it faces toward the top of the grid, moves it forward three squares, and rotates it right so that it faces right. The robot ends one square to the left of the gray square.\n",
    "\n",
    "#### 55. Move element from end of list to beginning\n",
    "Correct Answer: C\n",
    "\n",
    "Incorrect. This code segment removes the last element of the list, then attempts to access an element at index len. This causes an error because there is no longer an element at index len.\n",
    "\n",
    "#### 67. Behavior of blue orange purple spinner\n",
    "Correct Answer: A and D\n",
    "\n",
    "Incorrect. This code segment simulates a spinner in which there is a 1/4 chance of \"blue\", a 1/4 chance of \"orange\", and a 1/2 chance of \"purple\". However, the given spinner has a 1/4 chance of \"blue\", a 3/8 chance of \"orange\", and a 3/8 chance of \"purple\".\n",
    "\n",
    "#### 68. Error in remove duplicates code segment\n",
    "Correct Answer: A and C\n",
    "\n",
    "Incorrect. The code segment will iterate over myList from right to left, removing the sixth element (20), the third element (30), and the second element (30). This results in the list [30, 10, 20], which contains no duplicates, as intended.\n",
    "\n",
    "#### 70. Remove nth character from oldStr\n",
    "Correct Answer: A and C\n",
    "\n",
    "Incorrect. This code segment assigns the characters from the start of the string to one past position n to the variable left. The code segment then assigns the characters from one before position n to the end of the string to the variable right. It then concatenates left and right and assigns the result to newStr. For example, if oldStr is \"best\" and n is 3, the code segment assigns \"best\" to left, \"est\" to right, and \"bestest\" to newStr.\n",
    "\n",
    "## How I can study for the AP CSP Exam\n",
    "\n",
    "- Practice College Board tests\n",
    "- Reviewing concepts and previous team teaches\n",
    "- Reviewing code\n",
    "- Watching AP College Board videos\n",
    "\n",
    "# Learnings\n",
    "Throughout the College Board quiz, I learned that I will need to watch videos, whether on YouTube or College Board that will help me learn about the 2.B and 3.B topics. I think that the multiple choice questions were a large hurdle for me because there is no partial credit so I would need to get both answers to get any credit."
   ]
  }
 ],
 "metadata": {
  "language_info": {
   "name": "python"
  },
  "orig_nbformat": 4
 },
 "nbformat": 4,
 "nbformat_minor": 2
}
