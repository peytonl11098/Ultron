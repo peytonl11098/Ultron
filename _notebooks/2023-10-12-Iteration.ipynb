{
 "cells": [
  {
   "cell_type": "markdown",
   "metadata": {},
   "source": [
    "---\n",
    "layout: post\n",
    "title: Iteration\n",
    "description: Lesson on Iteration\n",
    "courses: {\"compsci\": {week: 8} }\n",
    "type: hacks\n",
    "author: Peyton Leigh\n",
    "---"
   ]
  },
  {
   "cell_type": "code",
   "execution_count": 1,
   "metadata": {},
   "outputs": [
    {
     "name": "stdout",
     "output_type": "stream",
     "text": [
      "Soccer\n",
      "School\n",
      "Sleep\n",
      "Bikinng\n",
      "Reading\n",
      "Gaming\n"
     ]
    }
   ],
   "source": [
    "def list_life_aspects(aspects, current_index=0):\n",
    "    if current_index == len(aspects):\n",
    "        return\n",
    "    else:\n",
    "        print(aspects[current_index])\n",
    "        list_life_aspects(aspects, current_index + 1)\n",
    "\n",
    "# Define a list of life aspects\n",
    "life_aspects = [\"Soccer\", \"School\", \"Sleep\", \"Biking\", \"Reading\", \"Gaming\"]\n",
    "\n",
    "# Call the function to list life aspects recursively\n",
    "list_life_aspects(life_aspects)\n"
   ]
  },
  {
   "cell_type": "code",
   "execution_count": 2,
   "metadata": {},
   "outputs": [
    {
     "name": "stdout",
     "output_type": "stream",
     "text": [
      "0\n",
      "1\n",
      "1\n",
      "2\n",
      "3\n",
      "5\n",
      "8\n",
      "13\n"
     ]
    }
   ],
   "source": [
    "# Function to find a number in the fibonacci sequence..\n",
    "def fibonacci(x):\n",
    "    if x == 1:\n",
    "        return(0) # First terminating statement\n",
    "    if x == 2:\n",
    "        return(1) # Second terminating statement\n",
    "    else:\n",
    "        return(fibonacci(x-1)+ fibonacci(x-2)) # We use recursion to recursively find sequential fibonacci sequence numbers.\n",
    "    \n",
    "for i in range(8):    \n",
    "    print(fibonacci(i+1))"
   ]
  }
 ],
 "metadata": {
  "kernelspec": {
   "display_name": "Python 3",
   "language": "python",
   "name": "python3"
  },
  "language_info": {
   "codemirror_mode": {
    "name": "ipython",
    "version": 3
   },
   "file_extension": ".py",
   "mimetype": "text/x-python",
   "name": "python",
   "nbconvert_exporter": "python",
   "pygments_lexer": "ipython3",
   "version": "3.10.12"
  }
 },
 "nbformat": 4,
 "nbformat_minor": 2
}
