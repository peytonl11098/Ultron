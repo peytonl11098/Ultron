{
 "cells": [
  {
   "cell_type": "markdown",
   "metadata": {},
   "source": [
    "---\n",
    "toc: False\n",
    "layout: post\n",
    "hide: false\n",
    "title: NATM Reflection\n",
    "description: Personal Reflection on Night at the Museum presenting our CPT Project\n",
    "courses: {'compsci': {'week': 23}}\n",
    "type: tangibles\n",
    "---"
   ]
  },
  {
   "cell_type": "markdown",
   "metadata": {},
   "source": [
    "# Blog / article on team and I\n",
    "### Glows\n",
    "- We presented in a way that was engaging and educational to the viewers\n",
    "- Our styling has drastically improved and was visually appealing to our audience\n",
    "- Many people were impressed by our sign-up/login system\n",
    "\n",
    "### Grows\n",
    "- We could have been more detailed in our presentation to the \"techy\" audience that Mr. Mortensen was referring to in our class meeting\n",
    "- Some team members weren't fully understanding of all the aspects of our project, so we could have integrated more before the presentation\n",
    "- We still need to focus on some of our features, such as the AI chat bot, and our API for linking info from volunteering databases\n",
    "- We need to deploy our website so that multiple people can access and interact with it at once\n",
    "\n",
    "# Blog on event\n",
    "- Something that I saw in CompSci that I was impressed by was the project that Ethan Tran and his group had created. It utilized AI to educate their audience on American Sign Language and was very interactive.\n",
    "- Something I saw outside of CompSci that I liked was in the ceramics room. Alena Yee has created some amazing and detailed pieces.\n",
    "\n",
    "### Pictures\n",
    "<img src=\"https://cdn.discordapp.com/attachments/600406936755634177/1208124248108044328/IMG_6791.jpg?ex=65e22462&is=65cfaf62&hm=a6ed402c7340603f875e1a0002036603a604ccad37655784f3ea552815f679cb&\" height=\"500px\" width=\"450px\"/>\n",
    "\n",
    "<img src=\"https://cdn.discordapp.com/attachments/600406936755634177/1208124293788209232/IMG_6782.jpg?ex=65e2246d&is=65cfaf6d&hm=db7ead7ce4ac94441152cfb62096bdd3549bc4d459500214a8ddbb3bceecea58&\" height=\"500px\" width=\"550px\">"
   ]
  }
 ],
 "metadata": {
  "language_info": {
   "name": "python"
  },
  "orig_nbformat": 4
 },
 "nbformat": 4,
 "nbformat_minor": 2
}
