{
 "cells": [
  {
   "cell_type": "markdown",
   "metadata": {},
   "source": [
    "---\n",
    "toc: true\n",
    "comments: false\n",
    "layout: post\n",
    "title: Python Code Developing Algorithms\n",
    "description: Homework for the in-class assignment #5\n",
    "type: plans\n",
    "courses: { compsci: {week: 9} }\n",
    "---"
   ]
  },
  {
   "cell_type": "code",
   "execution_count": 11,
   "metadata": {},
   "outputs": [
    {
     "name": "stdout",
     "output_type": "stream",
     "text": [
      "The median of the class test scores is: 83.5\n",
      "Welcome to the Number Guessing Game!\n",
      "I have chosen a number between 1 and 100. Let's see if you can guess it.\n",
      "Too low! Try again.\n",
      "Congratulations! 91 is the correct number. You win!\n",
      "Game Over.\n"
     ]
    }
   ],
   "source": [
    "# 1:\n",
    "scores = [87, 92, 78, 65, 80, 90, 88, 72]\n",
    "scores.sort()\n",
    "n = len(scores)\n",
    "if n % 2 == 0:\n",
    "    median = (scores[n // 2 - 1] + scores[n // 2]) / 2\n",
    "else:\n",
    "    median = scores[n // 2]\n",
    "print(\"The median of the class test scores is:\", median)\n",
    "\n",
    "# 2:\n",
    "import random\n",
    "lower_limit = 1\n",
    "upper_limit = 100\n",
    "random_number = random.randint(lower_limit, upper_limit)\n",
    "guessed_number = None\n",
    "print(\"Welcome to the Number Guessing Game!\")\n",
    "print(f\"I have chosen a number between {lower_limit} and {upper_limit}. Let's see if you can guess it.\")\n",
    "while guessed_number != random_number:\n",
    "    try:\n",
    "        guessed_number = int(input(\"Enter your guess: \"))\n",
    "        if guessed_number < random_number:\n",
    "            print(\"Too low! Try again.\")\n",
    "        elif guessed_number > random_number:\n",
    "            print(\"Too high! Try again.\")\n",
    "        else:\n",
    "    print(f\"Congratulations! {random_number} is the correct number. You win!\")\n",
    "    break\n",
    "    except ValueError:\n",
    "    print(\"Please enter a valid number.\")\n",
    "    \n",
    "print(\"Game Over.\")"
   ]
  }
 ],
 "metadata": {
  "kernelspec": {
   "display_name": "Python 3",
   "language": "python",
   "name": "python3"
  },
  "language_info": {
   "codemirror_mode": {
    "name": "ipython",
    "version": 3
   },
   "file_extension": ".py",
   "mimetype": "text/x-python",
   "name": "python",
   "nbconvert_exporter": "python",
   "pygments_lexer": "ipython3",
   "version": "3.11.5"
  },
  "orig_nbformat": 4
 },
 "nbformat": 4,
 "nbformat_minor": 2
}
