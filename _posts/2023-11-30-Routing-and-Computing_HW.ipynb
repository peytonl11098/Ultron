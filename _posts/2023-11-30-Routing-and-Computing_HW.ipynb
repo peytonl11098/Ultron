{
 "cells": [
  {
   "cell_type": "markdown",
   "metadata": {},
   "source": [
    "---\n",
    "toc: true\n",
    "comments: false\n",
    "layout: post\n",
    "title: Routing and Computing\n",
    "description: Homework and notes for the in-class assignment #2\n",
    "type: hacks\n",
    "courses: { compsci: {week: 15} }\n",
    "---"
   ]
  },
  {
   "cell_type": "markdown",
   "metadata": {},
   "source": [
    "## Notes\n",
    "- Network: system of computers connected with wire to communicate\n",
    "- fault tolerant: if one wire fails, the communication will still work\n",
    "- Internet is fault tolerant\n",
    "- Computing: use or operation of computers, includes: designing and building hardware and software systems for processing structuring, and managing various kinds of information, doing scientific studies using computers, making computer systems behave intelligently, creating and using communications, etc.\n",
    "\n",
    "Sequential Computing:\n",
    "- Computer works on one task at a time\n",
    "- Each task is dependant on the task before it\n",
    "- Execution time equals the sum of time it takes for each individual tasks to run\n",
    "\n",
    "Parallel Computing: \n",
    "- Schedules tasks to run at the same time\n",
    "- Normally all done on the same computer\n",
    "- Contains sequential and parallel portion\n",
    "- Intensive on resources\n",
    "- Usually faster than sequential, can scale easier\n",
    "- Execution time equals length of longest task\n",
    "\n",
    "Distributed Computing:\n",
    "- Sending tasks to other computers to reduce load\n",
    "- Mix of sequential and parallel computing\n",
    "- Requires a network to send tasks\n",
    "- Can take longer amount of time, based on network and waiting for responses from other computers"
   ]
  }
 ],
 "metadata": {
  "language_info": {
   "name": "python"
  },
  "orig_nbformat": 4
 },
 "nbformat": 4,
 "nbformat_minor": 2
}
