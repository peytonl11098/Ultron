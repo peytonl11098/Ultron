{
 "cells": [
  {
   "cell_type": "markdown",
   "metadata": {},
   "source": [
    "---\n",
    "toc: true\n",
    "comments: false\n",
    "layout: post\n",
    "title: Python Code Libraries\n",
    "description: Homework for the in-class assignment #7\n",
    "type: hacks\n",
    "courses: { compsci: {week: 10} }\n",
    "---"
   ]
  },
  {
   "cell_type": "code",
   "execution_count": null,
   "metadata": {},
   "outputs": [],
   "source": [
    "import pandas as pd\n",
    "\n",
    "# Read a CSV file into a DataFrame\n",
    "df = pd.read_csv('data.csv')\n",
    "\n",
    "# Display the first 5 rows of the DataFrame\n",
    "print(df.head())"
   ]
  },
  {
   "cell_type": "code",
   "execution_count": null,
   "metadata": {
    "vscode": {
     "languageId": "plaintext"
    }
   },
   "outputs": [],
   "source": [
    "Python Libraries:\n",
    "a. NumPy:\n",
    "\n",
    "Purpose: NumPy (Numerical Python) is a popular library for numerical and mathematical operations in Python. It provides support for large, multi-dimensional arrays and matrices, as well as a collection of mathematical functions to operate on these arrays efficiently.\n",
    "Favorite Functions/Variables:\n",
    "np.array(): This function is used to create a NumPy array from a list or other iterable. It's a fundamental operation to work with NumPy arrays.\n",
    "np.mean(): This function calculates the mean or average of elements in a NumPy array. It's a handy statistical function for data analysis.\n",
    "b. Pandas:\n",
    "\n",
    "Purpose: Pandas is a data manipulation library that provides data structures and functions for working with structured data, such as data frames and series. It is commonly used for data analysis and preprocessing.\n",
    "Favorite Functions/Variables:\n",
    "pd.DataFrame(): This function is used to create a DataFrame, which is a two-dimensional, size-mutable, and potentially heterogeneous tabular data structure with labeled axes. It's the core data structure in Pandas.\n",
    "df.head(): For a DataFrame 'df', this function returns the first 'n' rows of the DataFrame, which is very useful to quickly inspect and understand the data.\n",
    "c. Matplotlib:\n",
    "\n",
    "Purpose: Matplotlib is a popular data visualization library for creating static, animated, or interactive visualizations in Python. It provides a wide range of functions for creating charts, graphs, and plots.\n",
    "Favorite Functions/Variables:\n",
    "plt.plot(): This function is used to create line plots. It's simple to use and can help visualize trends and patterns in data.\n",
    "plt.xlabel() and plt.ylabel(): These functions are used to set labels for the x and y-axes of a plot, making the visualization more informative.\n",
    "API Research:\n",
    "I researched the OpenWeatherMap API, which is a weather data API. One unique feature I found in the documentation is the support for historical weather data. You can retrieve past weather data for specific locations, allowing you to analyze historical weather patterns. This API provides current weather information, forecasts, and historical weather data. It's a RESTful API that allows you to access weather-related data, making it suitable for various applications, such as weather forecasting apps, agriculture, travel, or event planning.\n",
    "Scenario: Imagine you are developing a travel planning app. By using the OpenWeatherMap API, you can provide users with historical weather data for their chosen travel destinations. This feature can help travelers make more informed decisions about when to plan their trips, taking into account past weather conditions."
   ]
  }
 ],
 "metadata": {
  "language_info": {
   "name": "python"
  },
  "orig_nbformat": 4
 },
 "nbformat": 4,
 "nbformat_minor": 2
}
