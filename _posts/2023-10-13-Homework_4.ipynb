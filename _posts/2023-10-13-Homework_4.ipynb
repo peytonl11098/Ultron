{
 "cells": [
  {
   "cell_type": "markdown",
   "metadata": {},
   "source": [
    "---\n",
    "toc: true\n",
    "comments: false\n",
    "layout: post\n",
    "title: Python Code Iterations\n",
    "description: Homework for the in-class assignment #4\n",
    "type: plans\n",
    "courses: { compsci: {week: 8} }\n",
    "---"
   ]
  },
  {
   "cell_type": "code",
   "execution_count": 6,
   "metadata": {},
   "outputs": [
    {
     "name": "stdout",
     "output_type": "stream",
     "text": [
      "['Hobbies', [['Reading', []], ['Sports', [['Basketball', []], ['Soccer', []]]]]]\n"
     ]
    }
   ],
   "source": [
    "# Problem 1\n",
    "\n",
    "def represent_life():\n",
    "    # Base case: An empty list represents the end of recursion\n",
    "    return []\n",
    "\n",
    "def add_aspect(aspect, sub_aspects=None):\n",
    "    if sub_aspects is None:\n",
    "        sub_aspects = []  # Default to an empty list if not provided\n",
    "    return [aspect, sub_aspects]\n",
    "\n",
    "# Building aspects of life using recursion\n",
    "life = represent_life()\n",
    "\n",
    "life = add_aspect(\"Work\", [\n",
    "    add_aspect(\"Job\", [\n",
    "        add_aspect(\"Company Culture\"),\n",
    "        add_aspect(\"Colleagues\"),\n",
    "        add_aspect(\"Salary\")\n",
    "    ]),\n",
    "    add_aspect(\"Career Growth\")\n",
    "])\n",
    "\n",
    "life = add_aspect(\"Family\", [\n",
    "    add_aspect(\"Parents\", [\n",
    "        add_aspect(\"Mom\"),\n",
    "        add_aspect(\"Dad\")\n",
    "    ]),\n",
    "    add_aspect(\"Siblings\")\n",
    "])\n",
    "\n",
    "life = add_aspect(\"Hobbies\", [\n",
    "    add_aspect(\"Reading\"),\n",
    "    add_aspect(\"Sports\", [\n",
    "        add_aspect(\"Basketball\"),\n",
    "        add_aspect(\"Soccer\")\n",
    "    ])\n",
    "])\n",
    "\n",
    "# Printing the representation of life\n",
    "print(life)\n",
    "\n",
    "\n",
    "\n",
    "# Problem 2\n",
    "\n",
    "# The first base case\n",
    "is used to handle the termination of the recursion when you reach the lowest valid input or a known condition. In the case of the Fibonacci sequence, this is usually when you reach the first two numbers, which are often defined as F(0) and F(1). Once you reach these values, the recursion should stop. \n",
    "# The second base case\n",
    "is used to handle the general case when the recursion continues. It ensures that the function progresses toward the base case. In the context of the Fibonacci sequence, this is the recursive step that calculates F(n) based on F(n-1) and F(n-2)."
   ]
  }
 ],
 "metadata": {
  "kernelspec": {
   "display_name": "Python 3",
   "language": "python",
   "name": "python3"
  },
  "language_info": {
   "codemirror_mode": {
    "name": "ipython",
    "version": 3
   },
   "file_extension": ".py",
   "mimetype": "text/x-python",
   "name": "python",
   "nbconvert_exporter": "python",
   "pygments_lexer": "ipython3",
   "version": "3.11.5"
  },
  "orig_nbformat": 4
 },
 "nbformat": 4,
 "nbformat_minor": 2
}
