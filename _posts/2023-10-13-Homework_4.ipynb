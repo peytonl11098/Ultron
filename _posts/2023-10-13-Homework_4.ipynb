{
 "cells": [
  {
   "cell_type": "markdown",
   "metadata": {},
   "source": [
    "---\n",
    "toc: true\n",
    "comments: false\n",
    "layout: post\n",
    "title: Python Code Iterations\n",
    "description: Homework for the in-class assignment #4\n",
    "type: plans\n",
    "courses: { compsci: {week: 8} }\n",
    "---"
   ]
  },
  {
   "cell_type": "code",
   "execution_count": 9,
   "metadata": {},
   "outputs": [
    {
     "name": "stdout",
     "output_type": "stream",
     "text": [
      "Waking up\n",
      "Brushing teeth\n",
      "Going to school\n",
      "Going to practice\n",
      "Going home\n",
      "Eating dinner\n"
     ]
    }
   ],
   "source": [
    "def aspects_of_life(step):\n",
    "    activities = [\n",
    "        \"Waking up\",\n",
    "        \"Brushing teeth\",\n",
    "        \"Going to school\",\n",
    "        \"Going to practice\",\n",
    "        \"Going home\",\n",
    "        \"Eating dinner\",\n",
    "        \"Taking a shower\",\n",
    "        \"Doing homework\",\n",
    "        \"Going to bed\"\n",
    "    ]\n",
    "\n",
    "    if step == 0:\n",
    "        return\n",
    "    aspects_of_life(step - 1)\n",
    "    activity = activities[step - 1] \n",
    "    if step <= len(activities):\n",
    "        print(activity)\n",
    "    else:\n",
    "        print('Unknown activity')\n",
    "\n",
    "aspects_of_life(6)"
   ]
  },
  {
   "cell_type": "code",
   "execution_count": 11,
   "metadata": {},
   "outputs": [
    {
     "name": "stdout",
     "output_type": "stream",
     "text": [
      "0\n",
      "1\n",
      "1\n",
      "2\n",
      "3\n",
      "5\n",
      "8\n",
      "13\n"
     ]
    }
   ],
   "source": [
    "x = 3\n",
    "def fibonacci(x):\n",
    "    if x==1:\n",
    "        return(0) # First terminating statement\n",
    "    if x == 2:\n",
    "        return(1) # Second terminating statement\n",
    "   \n",
    "    else:\n",
    "        return(fibonacci(x-1)+ fibonacci(x-2))\n",
    "\n",
    "\n",
    "for i in range(8):    \n",
    "    print(fibonacci(i+1))"
   ]
  }
 ],
 "metadata": {
  "kernelspec": {
   "display_name": "Python 3",
   "language": "python",
   "name": "python3"
  },
  "language_info": {
   "codemirror_mode": {
    "name": "ipython",
    "version": 3
   },
   "file_extension": ".py",
   "mimetype": "text/x-python",
   "name": "python",
   "nbconvert_exporter": "python",
   "pygments_lexer": "ipython3",
   "version": "3.11.5"
  },
  "orig_nbformat": 4
 },
 "nbformat": 4,
 "nbformat_minor": 2
}
