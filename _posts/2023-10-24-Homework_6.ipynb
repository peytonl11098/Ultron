{
 "cells": [
  {
   "cell_type": "markdown",
   "metadata": {},
   "source": [
    "---\n",
    "toc: true\n",
    "comments: false\n",
    "layout: post\n",
    "title: Python Code Procedures\n",
    "description: Homework for the in-class assignment #6\n",
    "type: plans\n",
    "courses: { compsci: {week: 10} }\n",
    "---"
   ]
  },
  {
   "cell_type": "code",
   "execution_count": 7,
   "metadata": {},
   "outputs": [
    {
     "name": "stdout",
     "output_type": "stream",
     "text": [
      "The product of 5 and 7 is: 35\n"
     ]
    }
   ],
   "source": [
    "#1 Procedural Abstraction\n",
    "\n",
    "def procedural_abstraction(number1, number2):\n",
    "    result = number1 * number2\n",
    "    return result\n",
    "\n",
    "x = 5\n",
    "y = 7\n",
    "product = procedural_abstraction(x, y)\n",
    "print(\"The product of {} and {} is: {}\".format(x, y, product))"
   ]
  },
  {
   "cell_type": "code",
   "execution_count": 9,
   "metadata": {},
   "outputs": [
    {
     "name": "stdout",
     "output_type": "stream",
     "text": [
      "The sum of 5 and 7 is: 12\n"
     ]
    }
   ],
   "source": [
    "#2 Summing Machine\n",
    "\n",
    "def summing_machine(first_number, second_number):\n",
    "    result = first_number + second_number\n",
    "    return result\n",
    "\n",
    "sum_result = summing_machine(5, 7)\n",
    "\n",
    "print(\"The sum of 5 and 7 is:\", sum_result)"
   ]
  }
 ],
 "metadata": {
  "kernelspec": {
   "display_name": "Python 3",
   "language": "python",
   "name": "python3"
  },
  "language_info": {
   "codemirror_mode": {
    "name": "ipython",
    "version": 3
   },
   "file_extension": ".py",
   "mimetype": "text/x-python",
   "name": "python",
   "nbconvert_exporter": "python",
   "pygments_lexer": "ipython3",
   "version": "3.11.5"
  },
  "orig_nbformat": 4
 },
 "nbformat": 4,
 "nbformat_minor": 2
}
