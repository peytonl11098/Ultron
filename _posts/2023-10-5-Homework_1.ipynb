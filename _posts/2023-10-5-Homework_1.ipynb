{
 "cells": [
  {
   "cell_type": "markdown",
   "metadata": {},
   "source": [
    "---\n",
    "toc: true\n",
    "comments: false\n",
    "layout: post\n",
    "title: Python Code Data Abstractions\n",
    "description: Homework for the in-class assignment #1\n",
    "type: hacks\n",
    "courses: { compsci: {week: 7} }\n",
    "---"
   ]
  },
  {
   "cell_type": "code",
   "execution_count": 17,
   "metadata": {},
   "outputs": [
    {
     "name": "stdout",
     "output_type": "stream",
     "text": [
      "16\n",
      "0.5\n",
      "Hello, I am Peyton and I am 16 years old. I am a junior\n",
      "Hi. My name is Peyton and I am 16 years old\n",
      "hi hi\n"
     ]
    }
   ],
   "source": [
    "#Question 1\n",
    "var1 = 7\n",
    "var2 = 9\n",
    "print(var1 + var2)\n",
    "\n",
    "#Question 2\n",
    "float1 = 7.0\n",
    "float2 = 14.0\n",
    "print(float1 / float2)\n",
    "\n",
    "#Question 3\n",
    "age = 16\n",
    "name = \"Peyton\"\n",
    "year = \"junior\"\n",
    "print(\"Hello, I am \" + name + \" and I am \" + str(age) + \" years old.\" + \" I am a \" + year)\n",
    "message = \"Hi. My name is {} and I am {} years old\"\n",
    "formatted_message = message.format(name, age)\n",
    "print(formatted_message)\n",
    "greeting = input(\"Enter a greeting: \")\n",
    "name = input(\"Enter a name: \")\n",
    "print(greeting + \" \" + name)"
   ]
  }
 ],
 "metadata": {
  "kernelspec": {
   "display_name": "Python 3",
   "language": "python",
   "name": "python3"
  },
  "language_info": {
   "codemirror_mode": {
    "name": "ipython",
    "version": 3
   },
   "file_extension": ".py",
   "mimetype": "text/x-python",
   "name": "python",
   "nbconvert_exporter": "python",
   "pygments_lexer": "ipython3",
   "version": "3.11.5"
  },
  "orig_nbformat": 4
 },
 "nbformat": 4,
 "nbformat_minor": 2
}
