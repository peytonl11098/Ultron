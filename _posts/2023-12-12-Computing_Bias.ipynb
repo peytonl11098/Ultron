{
 "cells": [
  {
   "cell_type": "markdown",
   "metadata": {},
   "source": [
    "---\n",
    "toc: true\n",
    "comments: false\n",
    "layout: post\n",
    "title: Computing Bias\n",
    "description: Homework and notes for the in-class assignment #4\n",
    "type: hacks\n",
    "courses: { compsci: {week: 16} }\n",
    "---"
   ]
  },
  {
   "cell_type": "markdown",
   "metadata": {},
   "source": [
    "# Popcorn Hack 1\n",
    "D."
   ]
  },
  {
   "cell_type": "markdown",
   "metadata": {},
   "source": [
    "### Data Driven Bias\n",
    "- Data doesn't reflect real world values\n",
    "- Explicit Data Bias: what you directly interact with\n",
    "- Implicit Data Bias: what it collects based on your activity"
   ]
  },
  {
   "cell_type": "markdown",
   "metadata": {},
   "source": [
    "### Algorithmic Bias\n",
    "- Bias in the features of the algorithm itself\n",
    "- Can come from data that ins't biased"
   ]
  },
  {
   "cell_type": "markdown",
   "metadata": {},
   "source": [
    "### Human Driven Bias\n",
    "- The creators of the program have subconciously developed biases in the program"
   ]
  },
  {
   "cell_type": "markdown",
   "metadata": {},
   "source": [
    "# Popcorn Hack #2\n",
    "This algorithm is Data bias and this may have occurred because the developers didn't account for people with darker skin. This may have been because the testers of the facial recognition have fairer skin, but they did not do this to discriminate or decrease their target audience."
   ]
  },
  {
   "cell_type": "markdown",
   "metadata": {},
   "source": [
    "# Popcorn Hack #3\n",
    "- TikTok and other social media algorithms\n",
    "- Phone tracks steps, location, etc."
   ]
  },
  {
   "cell_type": "markdown",
   "metadata": {},
   "source": [
    "### Mitigation Strategies\n",
    "- Diverse testing and hiring (divese data)\n",
    "- Pre-processing and in-processing\n",
    "- Post-processing (after you have completed your program)\n",
    "- Input Correction, Output correction, Classifer Correction"
   ]
  },
  {
   "cell_type": "markdown",
   "metadata": {},
   "source": []
  }
 ],
 "metadata": {
  "language_info": {
   "name": "python"
  },
  "orig_nbformat": 4
 },
 "nbformat": 4,
 "nbformat_minor": 2
}
