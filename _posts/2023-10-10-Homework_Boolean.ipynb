{
 "cells": [
  {
   "cell_type": "markdown",
   "metadata": {},
   "source": [
    "---\n",
    "toc: true\n",
    "comments: false\n",
    "layout: post\n",
    "title: Python Code Boolean Expressions and Conditionals\n",
    "description: Homework for the in-class assignment #3\n",
    "type: plans\n",
    "courses: { compsci: {week: 6} }\n",
    "---"
   ]
  },
  {
   "cell_type": "code",
   "execution_count": 20,
   "metadata": {},
   "outputs": [
    {
     "name": "stdout",
     "output_type": "stream",
     "text": [
      "you are eligible to vote!\n",
      "10500.0 is your new salary\n",
      "Your grade is a(n) A\n"
     ]
    }
   ],
   "source": [
    "# Problem 1\n",
    "citizen = input(\"Are you a US citizen? (yes/no)\")\n",
    "#if yes, they need to be 18 or older\n",
    "if citizen == \"yes\":\n",
    "    age = int(input(\"what is your age\"))\n",
    "    if age >= 18:\n",
    "        #if they are 18 or older, they can vote\n",
    "        print(\"you are eligible to vote!\")\n",
    "    else:\n",
    "        #if not, they can't vote\n",
    "        print(\"sorry, you are too young to vote. maybe wait a few years!\")\n",
    "else:\n",
    "    #if they are not a citizen, they also can't vote\n",
    "    print(\"sorry, you are not eligible to vote\")\n",
    "# Problem 2\n",
    "current_salary=float(input(\"Type your salary\"))\n",
    "years=int(input(\"Type the amount of years you have serviced the company\"))\n",
    "if(years>5):\n",
    "    print(current_salary*1.05, \"is your new salary\")\n",
    "else:\n",
    "    print(current_salary, \"is your salary\")\n",
    "# Problem 3\n",
    "#user input\n",
    "marks = float(input(\"What are your marks?\"))\n",
    "# all the grade rules\n",
    "if marks < 25:\n",
    "    grade = \"F\"\n",
    "elif 25 <= marks < 45:\n",
    "    grade = \"E\"\n",
    "elif 45 <= marks < 50:\n",
    "    grade = \"D\"\n",
    "elif 50 <= marks < 60:\n",
    "    grade = \"C\"\n",
    "elif 60 <= marks < 80:\n",
    "    grade = \"B\"\n",
    "else:\n",
    "    grade = \"A\"\n",
    "# Print the  grade\n",
    "print(\"Your grade is a(n)\", grade)"
   ]
  }
 ],
 "metadata": {
  "kernelspec": {
   "display_name": "Python 3",
   "language": "python",
   "name": "python3"
  },
  "language_info": {
   "codemirror_mode": {
    "name": "ipython",
    "version": 3
   },
   "file_extension": ".py",
   "mimetype": "text/x-python",
   "name": "python",
   "nbconvert_exporter": "python",
   "pygments_lexer": "ipython3",
   "version": "3.11.5"
  },
  "orig_nbformat": 4
 },
 "nbformat": 4,
 "nbformat_minor": 2
}
