{
 "cells": [
  {
   "cell_type": "markdown",
   "metadata": {},
   "source": [
    "---\n",
    "toc: true\n",
    "comments: true\n",
    "layout: post\n",
    "title: Review Ticket for Individual Review\n",
    "description: My Review + Peer Grade\n",
    "type: tangibles\n",
    "courses: { compsci: {week: 10} }\n",
    "---"
   ]
  },
  {
   "cell_type": "markdown",
   "metadata": {},
   "source": [
    "# Week 10\n",
    "This week, my team and I worked on the frontend of our passion project. We implemented multiple buttons allowing the user to jump to several pages from the home page, such as the calendar, to-do list, and the recipe browser. We also improved the interface of the home screen, dividing it up different portions. We also added an interactive search bar for users to input their desired city to view what the weather is like there. We have begun to work on making the homepage more aesthetic and implementing the to-do list for specific dates on our calendar."
   ]
  }
 ],
 "metadata": {
  "language_info": {
   "name": "python"
  },
  "orig_nbformat": 4
 },
 "nbformat": 4,
 "nbformat_minor": 2
}
