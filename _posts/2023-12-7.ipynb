{
 "cells": [
  {
   "cell_type": "markdown",
   "metadata": {},
   "source": [
    "---\n",
    "toc: true\n",
    "comments: false\n",
    "layout: post\n",
    "title: Digital Divide\n",
    "description: Homework and notes for the in-class assignment #3\n",
    "type: hacks\n",
    "courses: { compsci: {week: 15} }\n",
    "---"
   ]
  },
  {
   "cell_type": "markdown",
   "metadata": {},
   "source": [
    "Internet Access Varies Between:\n",
    "- Socioeconomic\n",
    "- Geographic\n",
    "- Countries (some countries may be underdeveloped in some countries)\n",
    "- Age (older and younger people)\n",
    "- Religion (Amish)\n",
    "- Occupation\n",
    "- Mountain ranges have difficulty obtaining good internet, contrasted by suburban areas"
   ]
  },
  {
   "cell_type": "markdown",
   "metadata": {},
   "source": [
    "Popcorn Hack 1\n",
    "1. Starlink helps developing countries with less access to the internet"
   ]
  },
  {
   "cell_type": "markdown",
   "metadata": {},
   "source": [
    "- Sattelites help to bring internet connection to developing countries (very expensive) because it doesn't need people to bring in infrastructure\n",
    "- Equity (some people might have less access to technological advancements and could risk falling behind relative to others)"
   ]
  },
  {
   "cell_type": "markdown",
   "metadata": {},
   "source": [
    "Popcorn Hack 2\n",
    "1. Canvas has most of the classes information\n",
    "2. Less proficient at computer systems than something like using paper"
   ]
  },
  {
   "cell_type": "markdown",
   "metadata": {},
   "source": [
    "- Government and taxpayers pay for technological devices\n",
    "- Foundations take in old devices, refurbish them, and distribute them to underpriveledged people\n",
    "- Organizations teach techonological literacy courses"
   ]
  },
  {
   "cell_type": "markdown",
   "metadata": {},
   "source": [
    "Popcorn Hack 3\n",
    "1. Many African countries have much less computers than the rest of the world\n",
    "2. North America and Western Europe has the largest ratio of computers per 100 people"
   ]
  }
 ],
 "metadata": {
  "language_info": {
   "name": "python"
  },
  "orig_nbformat": 4
 },
 "nbformat": 4,
 "nbformat_minor": 2
}
